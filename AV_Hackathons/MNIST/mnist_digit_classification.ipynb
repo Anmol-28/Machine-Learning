{
 "cells": [
  {
   "cell_type": "code",
   "execution_count": 1,
   "metadata": {},
   "outputs": [
    {
     "name": "stderr",
     "output_type": "stream",
     "text": [
      "Using TensorFlow backend.\n"
     ]
    }
   ],
   "source": [
    "import os\n",
    "import tensorflow as tf\n",
    "tf.logging.set_verbosity(tf.logging.ERROR)\n",
    "import cv2\n",
    "import sys\n",
    "import keras\n",
    "from keras.models import Sequential\n",
    "from keras.utils import to_categorical\n",
    "from keras.optimizers import RMSprop\n",
    "from keras.preprocessing.image import ImageDataGenerator\n",
    "from keras.callbacks import ReduceLROnPlateau\n",
    "from keras import optimizers\n",
    "import tensorflow as tf\n",
    "tf.logging.set_verbosity(tf.logging.ERROR)\n",
    "import imageio\n",
    "from random import shuffle\n",
    "import random\n",
    "import shutil\n",
    "\n",
    "from tqdm.notebook import trange, tqdm\n",
    "import itertools\n",
    "import pandas as pd\n",
    "import seaborn as sns\n",
    "import numpy as np\n",
    "from PIL import Image\n",
    "import matplotlib.pyplot as plt\n",
    "%matplotlib inline\n",
    "np.random.seed(2)\n",
    "\n",
    "\n",
    "from sklearn.model_selection import train_test_split\n",
    "from sklearn.metrics import confusion_matrix"
   ]
  },
  {
   "cell_type": "code",
   "execution_count": 2,
   "metadata": {},
   "outputs": [],
   "source": [
    "from keras.layers import Dense\n",
    "from keras.layers.normalization import BatchNormalization\n",
    "from keras.layers.convolutional import Conv2D # to add convolutional layers\n",
    "from keras.layers.convolutional import MaxPooling2D # to add pooling layers\n",
    "from keras.layers import Flatten # to flatten data for fully connected layers\n",
    "from keras.layers import Dropout # to avoid overfitting\n",
    "from keras.layers import Activation"
   ]
  },
  {
   "cell_type": "code",
   "execution_count": 3,
   "metadata": {},
   "outputs": [],
   "source": [
    "def plot_confusion_matrix(cm, classes,\n",
    "                          normalize=False,\n",
    "                          title='Confusion matrix',\n",
    "                          cmap=plt.cm.Blues):\n",
    "    \"\"\"\n",
    "    This function prints and plots the confusion matrix.\n",
    "    Normalization can be applied by setting `normalize=True`.\n",
    "    \"\"\"\n",
    "    if normalize:\n",
    "        cm = cm.astype('float') / cm.sum(axis=1)[:, np.newaxis]\n",
    "        print(\"Normalized confusion matrix\")\n",
    "    else:\n",
    "        print('Confusion matrix, without normalization')\n",
    "\n",
    "    print(cm)\n",
    "\n",
    "    plt.imshow(cm, interpolation='nearest', cmap=cmap)\n",
    "    plt.title(title)\n",
    "    plt.colorbar()\n",
    "    tick_marks = np.arange(len(classes))\n",
    "    plt.xticks(tick_marks, classes, rotation=45)\n",
    "    plt.yticks(tick_marks, classes)\n",
    "\n",
    "    fmt = '.2f' if normalize else 'd'\n",
    "    thresh = cm.max() / 2.\n",
    "    for i, j in itertools.product(range(cm.shape[0]), range(cm.shape[1])):\n",
    "        plt.text(j, i, format(cm[i, j], fmt),\n",
    "                 horizontalalignment=\"center\",\n",
    "                 color=\"white\" if cm[i, j] > thresh else \"black\")\n",
    "\n",
    "    plt.ylabel('True label')\n",
    "    plt.xlabel('Predicted label')\n",
    "    plt.tight_layout()"
   ]
  },
  {
   "cell_type": "code",
   "execution_count": 4,
   "metadata": {},
   "outputs": [],
   "source": [
    "def plot_loss_accuracy(history):\n",
    "    historydf = pd.DataFrame(history.history, index=history.epoch)\n",
    "    plt.figure(figsize=(8, 6))\n",
    "    historydf.plot(ylim=(0, max(1, historydf.values.max())))\n",
    "    loss = history.history['val_loss'][-1]\n",
    "    acc = history.history['val_acc'][-1]\n",
    "    plt.title('Validation Loss: %.3f, Validation Accuracy: %.3f' % (loss, acc))"
   ]
  },
  {
   "cell_type": "code",
   "execution_count": 5,
   "metadata": {},
   "outputs": [],
   "source": [
    "train_categories = pd.read_csv('train.csv')\n",
    "train_categories['filename'] = train_categories['filename'].apply(lambda x: int(x.split('.')[0]))\n",
    "train_images = train_categories.filename.values.tolist()\n",
    "location = 'C:\\\\Users\\\\ak19919\\\\Downloads\\\\Github\\\\Analytics-Vidya\\\\MNIST\\\\images'\n",
    "trainLabels = {}\n",
    "f = open(\"train.csv\", \"r\")\n",
    "train_digits = f.read()\n",
    "train_digits = train_digits.split('\\n')\n",
    "for i in range(len(train_digits) - 1):\n",
    "    train_digits[i] = train_digits[i].split(',')\n",
    "    trainLabels[train_digits[i][0].split('.')[0]] = train_digits[i][1]\n",
    "del trainLabels['filename']\n",
    "\n",
    "test_digits = pd.read_csv('test.csv')\n",
    "testImages = test_digits.filename.values.tolist()"
   ]
  },
  {
   "cell_type": "code",
   "execution_count": 6,
   "metadata": {},
   "outputs": [],
   "source": [
    "Digits = trainLabels.values()\n",
    "trainSet = set(Digits)\n",
    "itr_set = {}\n",
    "for i in trainSet:\n",
    "    itr_set[i] = 0"
   ]
  },
  {
   "cell_type": "code",
   "execution_count": 7,
   "metadata": {},
   "outputs": [],
   "source": [
    "if not os.path.exists(location + str('\\\\train_labelled')):\n",
    "    os.makedirs(location + str('\\\\train_labelled'))\n",
    "    os.makedirs(location + str('\\\\test_labelled'))\n",
    "    \n",
    "    # Combine labels and images and move to labelled train folder\n",
    "    for img in tqdm(os.listdir(location + '\\\\train')):\n",
    "        if not int(img.split('.')[0]) in train_images:\n",
    "            continue\n",
    "        imgName = img.split('.')[0]\n",
    "        label = trainLabels[str(imgName)]\n",
    "        itr_set[label] += 1\n",
    "        path = os.path.join(location + '\\\\train\\\\', img)\n",
    "        saveName = location + '\\\\train_labelled\\\\' + label + '-' + str(itr_set[label]) + '.png'\n",
    "        image_data = np.array(Image.open(path))\n",
    "        imageio.imwrite(saveName, image_data)\n",
    "        \n",
    "    # Move 20% of labelled data to validation folder for testing\n",
    "    validation_data = os.listdir(location + '\\\\train_labelled')\n",
    "    random.Random(2).shuffle(validation_data)\n",
    "    for i in itr_set:\n",
    "        itr_set[i] = int(itr_set[i]*0.2)\n",
    "    for i in tqdm(itr_set):\n",
    "        for j in validation_data:\n",
    "            if j.split('-')[0] == i:\n",
    "                if itr_set[i] > 0:\n",
    "                    shutil.move(location + '\\\\train_labelled\\\\' + str(j), location + str('\\\\test_labelled'))\n",
    "                    itr_set[i] -= 1\n",
    "\n",
    "# Move unlabelled data for classification to test folder\n",
    "if not os.path.exists(location + str('\\\\test_images')):\n",
    "    os.makedirs(location + str('\\\\test_images'))\n",
    "    for image in tqdm(testImages):\n",
    "        shutil.move(location + '\\\\test\\\\' + image, location + str('\\\\test_images'))"
   ]
  },
  {
   "cell_type": "code",
   "execution_count": 8,
   "metadata": {},
   "outputs": [],
   "source": [
    "def label_img(name):\n",
    "    word_label = name.split('-')[0]\n",
    "    if word_label == '0' : return np.array([1,0,0,0,0,0,0,0,0,0])\n",
    "    elif word_label == '1' : return np.array([0,1,0,0,0,0,0,0,0,0])\n",
    "    elif word_label == '2' : return np.array([0,0,1,0,0,0,0,0,0,0])\n",
    "    elif word_label == '3' : return np.array([0,0,0,1,0,0,0,0,0,0])\n",
    "    elif word_label == '4' : return np.array([0,0,0,0,1,0,0,0,0,0])\n",
    "    elif word_label == '5' : return np.array([0,0,0,0,0,1,0,0,0,0])\n",
    "    elif word_label == '6' : return np.array([0,0,0,0,0,0,1,0,0,0])\n",
    "    elif word_label == '7' : return np.array([0,0,0,0,0,0,0,1,0,0])\n",
    "    elif word_label == '8' : return np.array([0,0,0,0,0,0,0,0,1,0])\n",
    "    elif word_label == '9' : return np.array([0,0,0,0,0,0,0,0,0,1])"
   ]
  },
  {
   "cell_type": "code",
   "execution_count": 9,
   "metadata": {},
   "outputs": [],
   "source": [
    "def get_size_statistics(DIR):\n",
    "    heights = []\n",
    "    widths = []\n",
    "    for img in tqdm(os.listdir(DIR)): \n",
    "        path = os.path.join(DIR, img)\n",
    "        data = np.array(Image.open(path)) #PIL Image library\n",
    "        heights.append(data.shape[0])\n",
    "        widths.append(data.shape[1])\n",
    "    avg_height = sum(heights) / len(heights)\n",
    "    avg_width = sum(widths) / len(widths)\n",
    "    print(\"Average Height: \" + str(avg_height))\n",
    "    print(\"Max Height: \" + str(max(heights)))\n",
    "    print(\"Min Height: \" + str(min(heights)))\n",
    "    print(\"Average Width: \" + str(avg_width))\n",
    "    print(\"Max Width: \" + str(max(widths)))\n",
    "    print(\"Min Width: \" + str(min(widths)))"
   ]
  },
  {
   "cell_type": "code",
   "execution_count": 10,
   "metadata": {},
   "outputs": [
    {
     "data": {
      "application/vnd.jupyter.widget-view+json": {
       "model_id": "c5bc032c46ec4dc1821b14aa79f6eeec",
       "version_major": 2,
       "version_minor": 0
      },
      "text/plain": [
       "HBox(children=(FloatProgress(value=0.0, max=39205.0), HTML(value='')))"
      ]
     },
     "metadata": {},
     "output_type": "display_data"
    },
    {
     "name": "stdout",
     "output_type": "stream",
     "text": [
      "\n",
      "Average Height: 28.0\n",
      "Max Height: 28\n",
      "Min Height: 28\n",
      "Average Width: 28.0\n",
      "Max Width: 28\n",
      "Min Width: 28\n"
     ]
    }
   ],
   "source": [
    "get_size_statistics(location + '\\\\train_labelled')"
   ]
  },
  {
   "cell_type": "code",
   "execution_count": 11,
   "metadata": {},
   "outputs": [],
   "source": [
    "IMG_SIZE = 56\n",
    "def load_training_data(DIR):\n",
    "    train_data = []\n",
    "    for img in tqdm(os.listdir(DIR)):\n",
    "        label = label_img(img)\n",
    "        path = os.path.join(DIR, img)\n",
    "        img = cv2.imread(path, cv2.IMREAD_GRAYSCALE)\n",
    "        img = cv2.resize(img, (IMG_SIZE, IMG_SIZE))\n",
    "        train_data.append([np.array(img), label])\n",
    "    shuffle(train_data)\n",
    "    return train_data\n",
    "\n",
    "def load_validation_data(DIR):\n",
    "    val_data = []\n",
    "    for img in tqdm(os.listdir(DIR)):\n",
    "        label = label_img(img)\n",
    "        path = os.path.join(DIR, img)\n",
    "        img = cv2.imread(path, cv2.IMREAD_GRAYSCALE)\n",
    "        img = cv2.resize(img, (IMG_SIZE, IMG_SIZE))\n",
    "        val_data.append([np.array(img), label])\n",
    "    shuffle(val_data)\n",
    "    return val_data\n",
    "\n",
    "def load_testing_data(DIR):\n",
    "    test_data = []\n",
    "    for Img in tqdm(os.listdir(DIR)):\n",
    "        path = os.path.join(DIR, Img)\n",
    "        img = cv2.imread(path, cv2.IMREAD_GRAYSCALE)\n",
    "        img = cv2.resize(img, (IMG_SIZE, IMG_SIZE))\n",
    "        test_data.append([np.array(img), Img])\n",
    "    return test_data"
   ]
  },
  {
   "cell_type": "code",
   "execution_count": 12,
   "metadata": {},
   "outputs": [
    {
     "data": {
      "application/vnd.jupyter.widget-view+json": {
       "model_id": "7dc87d8b129a4a0a8b7439c73483f0f1",
       "version_major": 2,
       "version_minor": 0
      },
      "text/plain": [
       "HBox(children=(FloatProgress(value=0.0, max=39205.0), HTML(value='')))"
      ]
     },
     "metadata": {},
     "output_type": "display_data"
    },
    {
     "name": "stdout",
     "output_type": "stream",
     "text": [
      "\n"
     ]
    },
    {
     "data": {
      "application/vnd.jupyter.widget-view+json": {
       "model_id": "8049302ffc2443a98907c35b7b123974",
       "version_major": 2,
       "version_minor": 0
      },
      "text/plain": [
       "HBox(children=(FloatProgress(value=0.0, max=9795.0), HTML(value='')))"
      ]
     },
     "metadata": {},
     "output_type": "display_data"
    },
    {
     "name": "stdout",
     "output_type": "stream",
     "text": [
      "\n"
     ]
    }
   ],
   "source": [
    "train_data = load_training_data(location + '\\\\train_labelled')\n",
    "val_data = load_validation_data(location + '\\\\test_labelled')\n",
    "X_train = np.array([i[0] for i in train_data]).reshape(-1, IMG_SIZE, IMG_SIZE, 1)\n",
    "X_train = X_train / 255 # normalize training data\n",
    "y_train = np.array([i[1] for i in train_data])\n",
    "y_train = y_train / 255 # normalize training data\n",
    "X_test = np.array([i[0] for i in val_data]).reshape(-1, IMG_SIZE, IMG_SIZE, 1)\n",
    "X_test = X_test / 255 # normalize test data\n",
    "y_test = np.array([i[1] for i in val_data])\n",
    "y_test = y_test / 255 # normalize training data"
   ]
  },
  {
   "cell_type": "code",
   "execution_count": 13,
   "metadata": {},
   "outputs": [
    {
     "data": {
      "text/plain": [
       "<matplotlib.image.AxesImage at 0x234a4f050f0>"
      ]
     },
     "execution_count": 13,
     "metadata": {},
     "output_type": "execute_result"
    },
    {
     "data": {
      "image/png": "[encoded data removed]",
      "text/plain": [
       "<Figure size 432x288 with 1 Axes>"
      ]
     },
     "metadata": {
      "needs_background": "light"
     },
     "output_type": "display_data"
    }
   ],
   "source": [
    "plt.imshow(train_data[1247][0], cmap = 'gist_gray')"
   ]
  },
  {
   "cell_type": "code",
   "execution_count": 14,
   "metadata": {},
   "outputs": [],
   "source": [
    "def convolutional_model():\n",
    "    ADAMAX = optimizers.Adamax(lr = 0.002, beta_1 = 0.9, beta_2 = 0.999)\n",
    "    # create model\n",
    "    model = Sequential()\n",
    "    model.add(Conv2D(32, (4, 4), activation = 'relu', input_shape = (IMG_SIZE, IMG_SIZE, 1)))\n",
    "    model.add(Conv2D(64, (3, 3), activation = 'relu'))\n",
    "    model.add(MaxPooling2D(pool_size = (2, 2), strides = (2, 2)))\n",
    "    model.add(BatchNormalization(axis = -1))\n",
    "    model.add(Dropout(0.25))\n",
    "    \n",
    "    model.add(Conv2D(128, (3, 3), activation = 'relu'))\n",
    "    model.add(MaxPooling2D(pool_size = (2, 2), strides = (2, 2)))\n",
    "    model.add(BatchNormalization(axis = -1))\n",
    "    model.add(Dropout(0.25))\n",
    "    \n",
    "    model.add(Conv2D(128, (2, 2), activation = 'relu'))\n",
    "    model.add(Conv2D(256, (2, 2), activation = 'relu'))\n",
    "    model.add(MaxPooling2D(pool_size = (2, 2), strides = (2, 2)))\n",
    "    model.add(BatchNormalization(axis = -1))\n",
    "    model.add(Dropout(0.25))\n",
    "    \n",
    "    model.add(Flatten())\n",
    "    model.add(Dense(256, activation = 'relu'))\n",
    "    model.add(BatchNormalization())\n",
    "    model.add(Dense(128, activation = 'relu'))\n",
    "    model.add(Activation('relu'))\n",
    "    model.add(Dropout(0.25))\n",
    "    model.add(Dense(10, activation = 'softmax'))\n",
    "    \n",
    "    # Compile model\n",
    "    model.compile(optimizer = ADAMAX, loss = 'categorical_crossentropy',  metrics = ['accuracy'])\n",
    "    return model"
   ]
  },
  {
   "cell_type": "code",
   "execution_count": 15,
   "metadata": {},
   "outputs": [],
   "source": [
    "gen = ImageDataGenerator(rotation_range = 12, width_shift_range = 0.2, shear_range = 0.2,\n",
    "                         height_shift_range = 0.2, zoom_range = 0.2, fill_mode = 'nearest', horizontal_flip = False,\n",
    "                         vertical_flip = False, featurewise_center = False,\n",
    "                         samplewise_center = False, featurewise_std_normalization = False,\n",
    "                         samplewise_std_normalization = False)\n",
    "test_gen = ImageDataGenerator()\n",
    "\n",
    "# Create batches to  train models faster\n",
    "train_generator = gen.flow(X_train, y_train, batch_size = 32)\n",
    "test_generator = test_gen.flow(X_test, y_test, batch_size = 32)"
   ]
  },
  {
   "cell_type": "code",
   "execution_count": 16,
   "metadata": {},
   "outputs": [],
   "source": [
    "# Use annelar to gradually decrese the learning rate to improve generalization\n",
    "\n",
    "reduce_lr = ReduceLROnPlateau(monitor = 'val_acc', patience = 3, verbose = 1, factor = 0.4, min_lr = 0.00002,\n",
    "                                            mode = 'auto', cooldown = 0)"
   ]
  },
  {
   "cell_type": "code",
   "execution_count": 17,
   "metadata": {},
   "outputs": [
    {
     "name": "stdout",
     "output_type": "stream",
     "text": [
      "Epoch 1/70\n",
      "1225/1225 [==============================] - 659s 538ms/step - loss: 0.0025 - acc: 0.7948 - val_loss: 6.1719e-04 - val_acc: 0.9560\n",
      "Epoch 2/70\n",
      "1225/1225 [==============================] - 657s 536ms/step - loss: 0.0010 - acc: 0.9183 - val_loss: 3.3433e-04 - val_acc: 0.9761\n",
      "Epoch 3/70\n",
      "1225/1225 [==============================] - 659s 538ms/step - loss: 7.6514e-04 - acc: 0.9405 - val_loss: 2.2962e-04 - val_acc: 0.9820\n",
      "Epoch 4/70\n",
      "1225/1225 [==============================] - 655s 535ms/step - loss: 6.6272e-04 - acc: 0.9485 - val_loss: 2.0535e-04 - val_acc: 0.9852\n",
      "Epoch 5/70\n",
      "1225/1225 [==============================] - 663s 541ms/step - loss: 5.7069e-04 - acc: 0.9551 - val_loss: 2.4505e-04 - val_acc: 0.9800\n",
      "Epoch 6/70\n",
      "1225/1225 [==============================] - 659s 538ms/step - loss: 5.0363e-04 - acc: 0.9618 - val_loss: 1.3643e-04 - val_acc: 0.9897\n",
      "Epoch 7/70\n",
      "1225/1225 [==============================] - 657s 536ms/step - loss: 4.7150e-04 - acc: 0.9636 - val_loss: 1.5196e-04 - val_acc: 0.9881\n",
      "Epoch 8/70\n",
      "1225/1225 [==============================] - 658s 537ms/step - loss: 4.5209e-04 - acc: 0.9646 - val_loss: 1.5639e-04 - val_acc: 0.9878\n",
      "Epoch 9/70\n",
      "1225/1225 [==============================] - 658s 538ms/step - loss: 4.3262e-04 - acc: 0.9665 - val_loss: 1.3512e-04 - val_acc: 0.9895\n",
      "\n",
      "Epoch 00009: ReduceLROnPlateau reducing learning rate to 0.000800000037997961.\n",
      "Epoch 10/70\n",
      "1225/1225 [==============================] - 658s 537ms/step - loss: 3.4965e-04 - acc: 0.9730 - val_loss: 1.0539e-04 - val_acc: 0.9926\n",
      "Epoch 11/70\n",
      "1225/1225 [==============================] - 665s 543ms/step - loss: 3.3448e-04 - acc: 0.9746 - val_loss: 1.1080e-04 - val_acc: 0.9926\n",
      "Epoch 12/70\n",
      "1225/1225 [==============================] - 661s 539ms/step - loss: 3.1706e-04 - acc: 0.9760 - val_loss: 1.0206e-04 - val_acc: 0.9921\n",
      "Epoch 13/70\n",
      "1225/1225 [==============================] - 664s 542ms/step - loss: 3.0531e-04 - acc: 0.9769 - val_loss: 1.0204e-04 - val_acc: 0.9920\n",
      "\n",
      "Epoch 00013: ReduceLROnPlateau reducing learning rate to 0.00032000001519918444.\n",
      "Epoch 14/70\n",
      "1225/1225 [==============================] - 659s 538ms/step - loss: 2.8233e-04 - acc: 0.9781 - val_loss: 9.6422e-05 - val_acc: 0.9932\n",
      "Epoch 15/70\n",
      "1225/1225 [==============================] - 665s 543ms/step - loss: 2.6654e-04 - acc: 0.9788 - val_loss: 9.5657e-05 - val_acc: 0.9927\n",
      "Epoch 16/70\n",
      "1225/1225 [==============================] - 670s 547ms/step - loss: 2.7096e-04 - acc: 0.9791 - val_loss: 9.2226e-05 - val_acc: 0.9937\n",
      "Epoch 17/70\n",
      "1225/1225 [==============================] - 662s 540ms/step - loss: 2.5316e-04 - acc: 0.9804 - val_loss: 8.1945e-05 - val_acc: 0.9943\n",
      "Epoch 18/70\n",
      "1225/1225 [==============================] - 667s 544ms/step - loss: 2.5818e-04 - acc: 0.9806 - val_loss: 9.1329e-05 - val_acc: 0.9936\n",
      "Epoch 19/70\n",
      "1225/1225 [==============================] - 666s 544ms/step - loss: 2.4689e-04 - acc: 0.9810 - val_loss: 9.2519e-05 - val_acc: 0.9931\n",
      "Epoch 20/70\n",
      "1225/1225 [==============================] - 666s 543ms/step - loss: 2.4496e-04 - acc: 0.9814 - val_loss: 8.8306e-05 - val_acc: 0.9933\n",
      "\n",
      "Epoch 00020: ReduceLROnPlateau reducing learning rate to 0.0001280000084079802.\n",
      "Epoch 21/70\n",
      "1225/1225 [==============================] - 665s 543ms/step - loss: 2.4213e-04 - acc: 0.9812 - val_loss: 8.7609e-05 - val_acc: 0.9940\n",
      "Epoch 22/70\n",
      "1225/1225 [==============================] - 672s 548ms/step - loss: 2.3405e-04 - acc: 0.9819 - val_loss: 8.0323e-05 - val_acc: 0.9946\n",
      "Epoch 23/70\n",
      "1225/1225 [==============================] - 671s 548ms/step - loss: 2.2363e-04 - acc: 0.9824 - val_loss: 8.6761e-05 - val_acc: 0.9936\n",
      "Epoch 24/70\n",
      "1225/1225 [==============================] - 665s 543ms/step - loss: 2.2506e-04 - acc: 0.9821 - val_loss: 8.0296e-05 - val_acc: 0.9938\n",
      "Epoch 25/70\n",
      "1225/1225 [==============================] - 667s 544ms/step - loss: 2.2027e-04 - acc: 0.9830 - val_loss: 8.5627e-05 - val_acc: 0.9938\n",
      "\n",
      "Epoch 00025: ReduceLROnPlateau reducing learning rate to 5.120000569149852e-05.\n",
      "Epoch 26/70\n",
      "1225/1225 [==============================] - 676s 552ms/step - loss: 2.3406e-04 - acc: 0.9820 - val_loss: 8.1415e-05 - val_acc: 0.9941\n",
      "Epoch 27/70\n",
      "1225/1225 [==============================] - 671s 548ms/step - loss: 2.3658e-04 - acc: 0.9819 - val_loss: 7.8963e-05 - val_acc: 0.9949\n",
      "Epoch 28/70\n",
      "1225/1225 [==============================] - 672s 548ms/step - loss: 2.1598e-04 - acc: 0.9827 - val_loss: 8.2291e-05 - val_acc: 0.9948\n",
      "Epoch 29/70\n",
      "1225/1225 [==============================] - 668s 545ms/step - loss: 2.2341e-04 - acc: 0.9825 - val_loss: 8.4136e-05 - val_acc: 0.9944\n",
      "Epoch 30/70\n",
      "1225/1225 [==============================] - 667s 544ms/step - loss: 2.2764e-04 - acc: 0.9827 - val_loss: 7.9115e-05 - val_acc: 0.9944\n",
      "\n",
      "Epoch 00030: ReduceLROnPlateau reducing learning rate to 2.0480001694522798e-05.\n",
      "Epoch 31/70\n",
      "1225/1225 [==============================] - 669s 546ms/step - loss: 2.2647e-04 - acc: 0.9832 - val_loss: 8.2494e-05 - val_acc: 0.9943\n",
      "Epoch 32/70\n",
      "1225/1225 [==============================] - 676s 552ms/step - loss: 2.1994e-04 - acc: 0.9826 - val_loss: 8.0900e-05 - val_acc: 0.9945\n",
      "Epoch 33/70\n",
      "1225/1225 [==============================] - 669s 546ms/step - loss: 2.3206e-04 - acc: 0.9820 - val_loss: 7.9804e-05 - val_acc: 0.9944\n",
      "\n",
      "Epoch 00033: ReduceLROnPlateau reducing learning rate to 2e-05.\n",
      "Epoch 34/70\n",
      "1225/1225 [==============================] - 666s 544ms/step - loss: 2.3156e-04 - acc: 0.9829 - val_loss: 8.3616e-05 - val_acc: 0.9943\n",
      "Epoch 35/70\n",
      "1225/1225 [==============================] - 669s 546ms/step - loss: 2.1964e-04 - acc: 0.9834 - val_loss: 8.0966e-05 - val_acc: 0.9946\n",
      "Epoch 36/70\n",
      "1225/1225 [==============================] - 674s 550ms/step - loss: 2.2603e-04 - acc: 0.9829 - val_loss: 8.0751e-05 - val_acc: 0.9946\n",
      "Epoch 37/70\n",
      "1225/1225 [==============================] - 664s 542ms/step - loss: 2.0981e-04 - acc: 0.9830 - val_loss: 8.0105e-05 - val_acc: 0.9947\n",
      "Epoch 38/70\n",
      "1225/1225 [==============================] - 680s 555ms/step - loss: 2.2323e-04 - acc: 0.9828 - val_loss: 7.8461e-05 - val_acc: 0.9946\n",
      "Epoch 39/70\n",
      "1225/1225 [==============================] - 671s 548ms/step - loss: 2.1606e-04 - acc: 0.9834 - val_loss: 8.2548e-05 - val_acc: 0.9945\n",
      "Epoch 40/70\n",
      "1225/1225 [==============================] - 672s 548ms/step - loss: 2.2367e-04 - acc: 0.9825 - val_loss: 8.1431e-05 - val_acc: 0.9944\n",
      "Epoch 41/70\n",
      "1225/1225 [==============================] - 690s 564ms/step - loss: 2.2135e-04 - acc: 0.9826 - val_loss: 8.3781e-05 - val_acc: 0.9943\n",
      "Epoch 42/70\n",
      "1225/1225 [==============================] - 692s 565ms/step - loss: 2.1241e-04 - acc: 0.9831 - val_loss: 7.7331e-05 - val_acc: 0.9950\n",
      "Epoch 43/70\n",
      "1225/1225 [==============================] - 699s 570ms/step - loss: 2.1590e-04 - acc: 0.9832 - val_loss: 8.4394e-05 - val_acc: 0.9945\n",
      "Epoch 44/70\n",
      "1225/1225 [==============================] - 706s 576ms/step - loss: 2.2307e-04 - acc: 0.9824 - val_loss: 8.1303e-05 - val_acc: 0.9948\n",
      "Epoch 45/70\n",
      "1225/1225 [==============================] - 748s 611ms/step - loss: 2.1324e-04 - acc: 0.9832 - val_loss: 7.9946e-05 - val_acc: 0.9949\n",
      "Epoch 46/70\n",
      "1225/1225 [==============================] - 727s 593ms/step - loss: 2.3440e-04 - acc: 0.9817 - val_loss: 8.1381e-05 - val_acc: 0.9948\n",
      "Epoch 47/70\n",
      "1225/1225 [==============================] - 685s 559ms/step - loss: 2.1550e-04 - acc: 0.9832 - val_loss: 8.2760e-05 - val_acc: 0.9945\n",
      "Epoch 48/70\n",
      "1225/1225 [==============================] - 685s 559ms/step - loss: 2.2017e-04 - acc: 0.9829 - val_loss: 8.0241e-05 - val_acc: 0.9948\n",
      "Epoch 49/70\n",
      "1225/1225 [==============================] - 681s 556ms/step - loss: 2.2020e-04 - acc: 0.9830 - val_loss: 8.3416e-05 - val_acc: 0.9948\n",
      "Epoch 50/70\n",
      "1225/1225 [==============================] - 679s 554ms/step - loss: 2.3219e-04 - acc: 0.9818 - val_loss: 7.9205e-05 - val_acc: 0.9944\n",
      "Epoch 51/70\n",
      "1225/1225 [==============================] - 685s 559ms/step - loss: 2.1651e-04 - acc: 0.9833 - val_loss: 8.0301e-05 - val_acc: 0.9948\n",
      "Epoch 52/70\n",
      "1225/1225 [==============================] - 694s 566ms/step - loss: 2.2244e-04 - acc: 0.9824 - val_loss: 8.7981e-05 - val_acc: 0.9943\n",
      "Epoch 53/70\n",
      "1225/1225 [==============================] - 685s 559ms/step - loss: 2.1946e-04 - acc: 0.9829 - val_loss: 7.7214e-05 - val_acc: 0.9948\n",
      "Epoch 54/70\n",
      "1225/1225 [==============================] - 704s 575ms/step - loss: 2.1836e-04 - acc: 0.9829 - val_loss: 8.0583e-05 - val_acc: 0.9947\n",
      "Epoch 55/70\n",
      "1225/1225 [==============================] - 680s 555ms/step - loss: 2.1456e-04 - acc: 0.9834 - val_loss: 8.2866e-05 - val_acc: 0.9944\n",
      "Epoch 56/70\n",
      "1225/1225 [==============================] - 683s 557ms/step - loss: 2.1792e-04 - acc: 0.9829 - val_loss: 7.9691e-05 - val_acc: 0.9947\n",
      "Epoch 57/70\n",
      "1225/1225 [==============================] - 686s 560ms/step - loss: 2.1132e-04 - acc: 0.9836 - val_loss: 8.1089e-05 - val_acc: 0.9946\n",
      "Epoch 58/70\n",
      "1225/1225 [==============================] - 672s 548ms/step - loss: 2.2218e-04 - acc: 0.9831 - val_loss: 8.1389e-05 - val_acc: 0.9944\n",
      "Epoch 59/70\n",
      "1225/1225 [==============================] - 688s 562ms/step - loss: 2.1609e-04 - acc: 0.9832 - val_loss: 8.0306e-05 - val_acc: 0.9947\n",
      "Epoch 60/70\n",
      "1225/1225 [==============================] - 685s 559ms/step - loss: 2.0788e-04 - acc: 0.9840 - val_loss: 8.3088e-05 - val_acc: 0.9946\n",
      "Epoch 61/70\n",
      "1225/1225 [==============================] - 690s 563ms/step - loss: 2.1558e-04 - acc: 0.9828 - val_loss: 8.1107e-05 - val_acc: 0.9943\n",
      "Epoch 62/70\n",
      "1225/1225 [==============================] - 684s 559ms/step - loss: 2.2624e-04 - acc: 0.9828 - val_loss: 8.0221e-05 - val_acc: 0.9947\n",
      "Epoch 63/70\n",
      "1225/1225 [==============================] - 760s 621ms/step - loss: 2.2190e-04 - acc: 0.9831 - val_loss: 8.0920e-05 - val_acc: 0.9947\n",
      "Epoch 64/70\n",
      "1225/1225 [==============================] - 855s 698ms/step - loss: 2.1779e-04 - acc: 0.9830 - val_loss: 7.9185e-05 - val_acc: 0.9945\n",
      "Epoch 65/70\n",
      "1225/1225 [==============================] - 862s 703ms/step - loss: 2.1473e-04 - acc: 0.9832 - val_loss: 8.0370e-05 - val_acc: 0.9946\n",
      "Epoch 66/70\n",
      "1225/1225 [==============================] - 869s 709ms/step - loss: 2.1410e-04 - acc: 0.9834 - val_loss: 8.2004e-05 - val_acc: 0.9946\n",
      "Epoch 67/70\n",
      "1225/1225 [==============================] - 871s 711ms/step - loss: 2.1420e-04 - acc: 0.9827 - val_loss: 8.3720e-05 - val_acc: 0.9943\n",
      "Epoch 68/70\n",
      "1225/1225 [==============================] - 876s 715ms/step - loss: 2.1490e-04 - acc: 0.9836 - val_loss: 8.0377e-05 - val_acc: 0.9945\n",
      "Epoch 69/70\n",
      "1225/1225 [==============================] - 873s 712ms/step - loss: 2.0425e-04 - acc: 0.9843 - val_loss: 7.8750e-05 - val_acc: 0.9946\n",
      "Epoch 70/70\n",
      "1225/1225 [==============================] - 814s 664ms/step - loss: 2.1328e-04 - acc: 0.9836 - val_loss: 8.2544e-05 - val_acc: 0.9943\n"
     ]
    }
   ],
   "source": [
    "# build the model\n",
    "model = convolutional_model()\n",
    "epochs = 70\n",
    "# fit the model\n",
    "\n",
    "#history = model.fit(X_train, y_train, validation_data = (X_test, y_test), epochs = 30, batch_size = 200, verbose = 2)\n",
    "\n",
    "history = model.fit_generator(train_generator, steps_per_epoch = 1225, epochs = epochs, \n",
    "                              validation_data = test_generator, validation_steps = 1225, verbose = 1,\n",
    "                              callbacks=[reduce_lr])\n",
    "\n",
    "# evaluate the model\n",
    "scores = model.evaluate(X_test, y_test, verbose = 0)"
   ]
  },
  {
   "cell_type": "code",
   "execution_count": 18,
   "metadata": {},
   "outputs": [
    {
     "name": "stdout",
     "output_type": "stream",
     "text": [
      "Accuracy: 0.9943848902501277 \n",
      " Error: 0.5615109749872289\n"
     ]
    },
    {
     "data": {
      "text/plain": [
       "<Figure size 576x432 with 0 Axes>"
      ]
     },
     "metadata": {},
     "output_type": "display_data"
    },
    {
     "data": {
      "image/png": "[encoded data removed]",
      "text/plain": [
       "<Figure size 432x288 with 1 Axes>"
      ]
     },
     "metadata": {
      "needs_background": "light"
     },
     "output_type": "display_data"
    }
   ],
   "source": [
    "print(\"Accuracy: {} \\n Error: {}\".format(scores[1], 100-scores[1]*100))\n",
    "plot_loss_accuracy(history)"
   ]
  },
  {
   "cell_type": "code",
   "execution_count": 19,
   "metadata": {},
   "outputs": [
    {
     "name": "stdout",
     "output_type": "stream",
     "text": [
      "Confusion matrix, without normalization\n",
      "[[ 964    0    0    0    0    0    2    0    0    0]\n",
      " [   0 1095    0    0    0    0    1    6    0    0]\n",
      " [   0    1  970    4    1    0    0    0    0    2]\n",
      " [   0    0    0  996    0    2    0    1    0    0]\n",
      " [   0    1    0    0  952    0    0    0    0    2]\n",
      " [   1    0    0    3    0  875    3    0    1    0]\n",
      " [   1    0    0    0    0    0  959    0    2    0]\n",
      " [   0    2    5    0    1    0    0 1013    0    0]\n",
      " [   1    0    0    0    0    1    0    0  952    1]\n",
      " [   0    1    0    0    6    1    0    2    0  964]]\n"
     ]
    },
    {
     "data": {
      "image/png": "[encoded data removed]",
      "text/plain": [
       "<Figure size 432x288 with 2 Axes>"
      ]
     },
     "metadata": {
      "needs_background": "light"
     },
     "output_type": "display_data"
    }
   ],
   "source": [
    "y_pred = np.argmax(model.predict(X_test), axis = 1)\n",
    "Y_true = np.argmax(y_test, axis = 1)\n",
    "cm = confusion_matrix(Y_true, y_pred)\n",
    "plot_confusion_matrix(cm, classes = range(10))"
   ]
  },
  {
   "cell_type": "code",
   "execution_count": 20,
   "metadata": {},
   "outputs": [
    {
     "data": {
      "application/vnd.jupyter.widget-view+json": {
       "model_id": "d3f9dc19cfb246cca975987b49fbfb32",
       "version_major": 2,
       "version_minor": 0
      },
      "text/plain": [
       "HBox(children=(FloatProgress(value=0.0, max=21000.0), HTML(value='')))"
      ]
     },
     "metadata": {},
     "output_type": "display_data"
    },
    {
     "name": "stdout",
     "output_type": "stream",
     "text": [
      "\n"
     ]
    }
   ],
   "source": [
    "test_data = load_testing_data(location + '\\\\test_images')\n",
    "test = np.array([i[0] for i in test_data]).reshape(-1, IMG_SIZE, IMG_SIZE, 1)\n",
    "test_labels = np.array([i[1] for i in test_data])\n",
    "test = test / 255 # normalize test data\n",
    "Y_pred = np.round(model.predict(test))\n",
    "Y_pred = np.argmax(Y_pred, axis = 1)\n",
    "Y_pred = pd.Series(Y_pred, name = \"label\")"
   ]
  },
  {
   "cell_type": "code",
   "execution_count": 21,
   "metadata": {},
   "outputs": [],
   "source": [
    "submission_df = pd.DataFrame({\n",
    "                  \"filename\": pd.Series(test_labels),\n",
    "                  \"label\": pd.Series(Y_pred)})\n",
    "submission_df.to_csv('submission_3_36x36.csv', index = False)"
   ]
  },
  {
   "cell_type": "code",
   "execution_count": 22,
   "metadata": {},
   "outputs": [],
   "source": [
    "LR = 0.002\n",
    "model_name = 'classify_apparels-{}-{}.model'.format(LR, 'CCMBD_CMDB_CCMBD_FDBDADD_conv_v5_36x36')\n",
    "model.save(model_name)"
   ]
  }
 ],
 "metadata": {
  "kernelspec": {
   "display_name": "Python 3",
   "language": "python",
   "name": "python3"
  },
  "language_info": {
   "codemirror_mode": {
    "name": "ipython",
    "version": 3
   },
   "file_extension": ".py",
   "mimetype": "text/x-python",
   "name": "python",
   "nbconvert_exporter": "python",
   "pygments_lexer": "ipython3",
   "version": "3.6.8"
  }
 },
 "nbformat": 4,
 "nbformat_minor": 2
}
