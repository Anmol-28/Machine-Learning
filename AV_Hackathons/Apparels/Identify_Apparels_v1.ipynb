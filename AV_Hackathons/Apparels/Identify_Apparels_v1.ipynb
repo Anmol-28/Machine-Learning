{
 "cells": [
  {
   "cell_type": "code",
   "execution_count": 1,
   "metadata": {},
   "outputs": [
    {
     "name": "stderr",
     "output_type": "stream",
     "text": [
      "Using TensorFlow backend.\n"
     ]
    }
   ],
   "source": [
    "import sys\n",
    "import os\n",
    "import itertools\n",
    "import pandas as pd\n",
    "from PIL import Image\n",
    "import numpy as np\n",
    "from numpy import *\n",
    "import csv\n",
    "import matplotlib.pyplot as plt\n",
    "%matplotlib inline\n",
    "np.random.seed(2)\n",
    "from os import walk\n",
    "\n",
    "import seaborn as sns\n",
    "import keras\n",
    "from keras.models import Sequential\n",
    "from keras.utils import to_categorical\n",
    "from keras.optimizers import RMSprop\n",
    "from keras.preprocessing.image import ImageDataGenerator\n",
    "from keras.callbacks import ReduceLROnPlateau\n",
    "from keras import optimizers\n",
    "import tensorflow as tf\n",
    "tf.logging.set_verbosity(tf.logging.ERROR)\n",
    "\n",
    "from keras.layers import Dense\n",
    "from keras.layers.normalization import BatchNormalization\n",
    "from keras.layers.convolutional import Conv2D # to add convolutional layers\n",
    "from keras.layers.convolutional import MaxPooling2D # to add pooling layers\n",
    "from keras.layers import Flatten # to flatten data for fully connected layers\n",
    "from keras.layers import Dropout # to avoid overfitting\n",
    "from keras.layers import Activation\n",
    "\n",
    "from sklearn.model_selection import train_test_split\n",
    "from sklearn.metrics import confusion_matrix"
   ]
  },
  {
   "cell_type": "code",
   "execution_count": 2,
   "metadata": {},
   "outputs": [],
   "source": [
    "def plot_confusion_matrix(cm, classes,\n",
    "                          normalize=False,\n",
    "                          title='Confusion matrix',\n",
    "                          cmap=plt.cm.Blues):\n",
    "    \"\"\"\n",
    "    This function prints and plots the confusion matrix.\n",
    "    Normalization can be applied by setting `normalize=True`.\n",
    "    \"\"\"\n",
    "    if normalize:\n",
    "        cm = cm.astype('float') / cm.sum(axis=1)[:, np.newaxis]\n",
    "        print(\"Normalized confusion matrix\")\n",
    "    else:\n",
    "        print('Confusion matrix, without normalization')\n",
    "\n",
    "    print(cm)\n",
    "\n",
    "    plt.imshow(cm, interpolation='nearest', cmap=cmap)\n",
    "    plt.title(title)\n",
    "    plt.colorbar()\n",
    "    tick_marks = np.arange(len(classes))\n",
    "    plt.xticks(tick_marks, classes, rotation=45)\n",
    "    plt.yticks(tick_marks, classes)\n",
    "\n",
    "    fmt = '.2f' if normalize else 'd'\n",
    "    thresh = cm.max() / 2.\n",
    "    for i, j in itertools.product(range(cm.shape[0]), range(cm.shape[1])):\n",
    "        plt.text(j, i, format(cm[i, j], fmt),\n",
    "                 horizontalalignment=\"center\",\n",
    "                 color=\"white\" if cm[i, j] > thresh else \"black\")\n",
    "\n",
    "    plt.ylabel('True label')\n",
    "    plt.xlabel('Predicted label')\n",
    "    plt.tight_layout()"
   ]
  },
  {
   "cell_type": "code",
   "execution_count": 3,
   "metadata": {},
   "outputs": [],
   "source": [
    "def plot_loss_accuracy(history):\n",
    "    historydf = pd.DataFrame(history.history, index=history.epoch)\n",
    "    plt.figure(figsize=(8, 6))\n",
    "    historydf.plot(ylim=(0, max(1, historydf.values.max())))\n",
    "    loss = history.history['val_loss'][-1]\n",
    "    acc = history.history['val_acc'][-1]\n",
    "    plt.title('Validation Loss: %.3f, Validation Accuracy: %.3f' % (loss, acc))"
   ]
  },
  {
   "cell_type": "code",
   "execution_count": 4,
   "metadata": {},
   "outputs": [
    {
     "data": {
      "text/plain": [
       "\"\\ndef view_images(folder):\\n    images = os.listdir(folder)\\n    for i in range(0, 5):\\n        data = image.imread(folder + '\\\\' + images[i])\\n        # summarize shape of the pixel array\\n        print(data.dtype)\\n        print(data.shape)\\n        # display the array of pixels as an image\\n        pyplot.imshow(data)\\n        pyplot.show()\\n        \\ndef view_images(folder):\\n    images = os.listdir(folder)\\n    for i in range(0, 1):\\n        temp = asarray(Image.open(os.path.join(folder, images[i])))\\n        x = temp.shape[0]\\n        y = temp.shape[1]*temp.shape[2]\\n        temp.resize((x,y)) # a 2D array\\n        #print(x,y)\\n        #print(temp)\\n\""
      ]
     },
     "execution_count": 4,
     "metadata": {},
     "output_type": "execute_result"
    }
   ],
   "source": [
    "\"\"\"\n",
    "def view_images(folder):\n",
    "    images = os.listdir(folder)\n",
    "    for i in range(0, 5):\n",
    "        data = image.imread(folder + '\\\\' + images[i])\n",
    "        # summarize shape of the pixel array\n",
    "        print(data.dtype)\n",
    "        print(data.shape)\n",
    "        # display the array of pixels as an image\n",
    "        pyplot.imshow(data)\n",
    "        pyplot.show()\n",
    "        \n",
    "def view_images(folder):\n",
    "    images = os.listdir(folder)\n",
    "    for i in range(0, 1):\n",
    "        temp = asarray(Image.open(os.path.join(folder, images[i])))\n",
    "        x = temp.shape[0]\n",
    "        y = temp.shape[1]*temp.shape[2]\n",
    "        temp.resize((x,y)) # a 2D array\n",
    "        #print(x,y)\n",
    "        #print(temp)\n",
    "\"\"\""
   ]
  },
  {
   "cell_type": "code",
   "execution_count": 5,
   "metadata": {},
   "outputs": [],
   "source": [
    "def load_train_images(folder):\n",
    "    train_pixels = {}\n",
    "    images = os.listdir(folder)\n",
    "    for i in range(0, len(images)):\n",
    "        key = int(images[i].split('.')[0])\n",
    "        img = Image.open(os.path.join(folder, images[i]))\n",
    "        img = img.convert('L')\n",
    "        data = np.asarray(img.getdata(), dtype = np.int).reshape((img.size[1], img.size[0]))\n",
    "        train_pixels.update({key : data.flatten().tolist()})\n",
    "    train_pixel = pd.DataFrame.from_dict(train_pixels, orient = 'index')\n",
    "    train_pixel['id'] = train_pixel.index\n",
    "    train_col = []\n",
    "    for i in range(1, train_pixel.shape[1]):\n",
    "        train_col.append('pixel_' + str(i))\n",
    "    train_col.append('id')\n",
    "    train_pixel.columns = train_col\n",
    "    train_val = pd.read_csv('train.csv', index_col = 0)\n",
    "    train_data = train_pixel.merge(train_val, left_on = 'id', right_on = 'id')\n",
    "    return train_data\n",
    "\n",
    "def load_test_images(folder):\n",
    "    test_pixels = {}\n",
    "    images = os.listdir(folder)\n",
    "    for i in range(0, len(images)):\n",
    "        key = int(images[i].split('.')[0])\n",
    "        img = Image.open(os.path.join(folder, images[i]))\n",
    "        img = img.convert('L')\n",
    "        data = np.asarray(img.getdata(), dtype = np.int).reshape((img.size[1], img.size[0]))\n",
    "        test_pixels.update({key : data.flatten().tolist()})\n",
    "    test_pixel = pd.DataFrame.from_dict(test_pixels, orient = 'index')\n",
    "    test_pixel['id'] = test_pixel.index\n",
    "    test_col = []\n",
    "    for i in range(1, test_pixel.shape[1]):\n",
    "        test_col.append('pixel_' + str(i))\n",
    "    test_col.append('index')\n",
    "    test_pixel.columns = test_col\n",
    "    return test_pixel"
   ]
  },
  {
   "cell_type": "code",
   "execution_count": 6,
   "metadata": {},
   "outputs": [],
   "source": [
    "# view_images('C:\\\\Users\\\\ak19919\\\\Downloads\\\\Github\\\\Analytics-Vidya\\\\Apparels\\\\test')\n",
    "train_df = load_train_images('C:\\\\Users\\\\ak19919\\\\Downloads\\\\Github\\\\Analytics-Vidya\\\\Apparels\\\\train')\n",
    "test_df = load_test_images('C:\\\\Users\\\\ak19919\\\\Downloads\\\\Github\\\\Analytics-Vidya\\\\Apparels\\\\test')"
   ]
  },
  {
   "cell_type": "code",
   "execution_count": 7,
   "metadata": {
    "scrolled": true
   },
   "outputs": [
    {
     "data": {
      "text/html": [
       "<div>\n",
       "<style scoped>\n",
       "    .dataframe tbody tr th:only-of-type {\n",
       "        vertical-align: middle;\n",
       "    }\n",
       "\n",
       "    .dataframe tbody tr th {\n",
       "        vertical-align: top;\n",
       "    }\n",
       "\n",
       "    .dataframe thead th {\n",
       "        text-align: right;\n",
       "    }\n",
       "</style>\n",
       "<table border=\"1\" class=\"dataframe\">\n",
       "  <thead>\n",
       "    <tr style=\"text-align: right;\">\n",
       "      <th></th>\n",
       "      <th>pixel_1</th>\n",
       "      <th>pixel_2</th>\n",
       "      <th>pixel_3</th>\n",
       "      <th>pixel_4</th>\n",
       "      <th>pixel_5</th>\n",
       "      <th>pixel_6</th>\n",
       "      <th>pixel_7</th>\n",
       "      <th>pixel_8</th>\n",
       "      <th>pixel_9</th>\n",
       "      <th>pixel_10</th>\n",
       "      <th>...</th>\n",
       "      <th>pixel_776</th>\n",
       "      <th>pixel_777</th>\n",
       "      <th>pixel_778</th>\n",
       "      <th>pixel_779</th>\n",
       "      <th>pixel_780</th>\n",
       "      <th>pixel_781</th>\n",
       "      <th>pixel_782</th>\n",
       "      <th>pixel_783</th>\n",
       "      <th>pixel_784</th>\n",
       "      <th>label</th>\n",
       "    </tr>\n",
       "  </thead>\n",
       "  <tbody>\n",
       "    <tr>\n",
       "      <th>0</th>\n",
       "      <td>0</td>\n",
       "      <td>0</td>\n",
       "      <td>0</td>\n",
       "      <td>0</td>\n",
       "      <td>0</td>\n",
       "      <td>0</td>\n",
       "      <td>0</td>\n",
       "      <td>0</td>\n",
       "      <td>0</td>\n",
       "      <td>0</td>\n",
       "      <td>...</td>\n",
       "      <td>0</td>\n",
       "      <td>0</td>\n",
       "      <td>0</td>\n",
       "      <td>0</td>\n",
       "      <td>0</td>\n",
       "      <td>0</td>\n",
       "      <td>0</td>\n",
       "      <td>0</td>\n",
       "      <td>0</td>\n",
       "      <td>9</td>\n",
       "    </tr>\n",
       "    <tr>\n",
       "      <th>1</th>\n",
       "      <td>0</td>\n",
       "      <td>0</td>\n",
       "      <td>0</td>\n",
       "      <td>0</td>\n",
       "      <td>0</td>\n",
       "      <td>0</td>\n",
       "      <td>0</td>\n",
       "      <td>0</td>\n",
       "      <td>0</td>\n",
       "      <td>0</td>\n",
       "      <td>...</td>\n",
       "      <td>0</td>\n",
       "      <td>0</td>\n",
       "      <td>0</td>\n",
       "      <td>0</td>\n",
       "      <td>0</td>\n",
       "      <td>0</td>\n",
       "      <td>0</td>\n",
       "      <td>0</td>\n",
       "      <td>0</td>\n",
       "      <td>5</td>\n",
       "    </tr>\n",
       "    <tr>\n",
       "      <th>2</th>\n",
       "      <td>0</td>\n",
       "      <td>0</td>\n",
       "      <td>0</td>\n",
       "      <td>0</td>\n",
       "      <td>0</td>\n",
       "      <td>0</td>\n",
       "      <td>0</td>\n",
       "      <td>0</td>\n",
       "      <td>0</td>\n",
       "      <td>0</td>\n",
       "      <td>...</td>\n",
       "      <td>0</td>\n",
       "      <td>0</td>\n",
       "      <td>0</td>\n",
       "      <td>0</td>\n",
       "      <td>0</td>\n",
       "      <td>0</td>\n",
       "      <td>0</td>\n",
       "      <td>0</td>\n",
       "      <td>0</td>\n",
       "      <td>8</td>\n",
       "    </tr>\n",
       "    <tr>\n",
       "      <th>3</th>\n",
       "      <td>0</td>\n",
       "      <td>0</td>\n",
       "      <td>0</td>\n",
       "      <td>0</td>\n",
       "      <td>0</td>\n",
       "      <td>0</td>\n",
       "      <td>0</td>\n",
       "      <td>0</td>\n",
       "      <td>0</td>\n",
       "      <td>0</td>\n",
       "      <td>...</td>\n",
       "      <td>0</td>\n",
       "      <td>0</td>\n",
       "      <td>0</td>\n",
       "      <td>0</td>\n",
       "      <td>0</td>\n",
       "      <td>0</td>\n",
       "      <td>0</td>\n",
       "      <td>0</td>\n",
       "      <td>0</td>\n",
       "      <td>8</td>\n",
       "    </tr>\n",
       "    <tr>\n",
       "      <th>4</th>\n",
       "      <td>0</td>\n",
       "      <td>0</td>\n",
       "      <td>0</td>\n",
       "      <td>0</td>\n",
       "      <td>1</td>\n",
       "      <td>0</td>\n",
       "      <td>0</td>\n",
       "      <td>15</td>\n",
       "      <td>77</td>\n",
       "      <td>50</td>\n",
       "      <td>...</td>\n",
       "      <td>1</td>\n",
       "      <td>0</td>\n",
       "      <td>0</td>\n",
       "      <td>76</td>\n",
       "      <td>47</td>\n",
       "      <td>0</td>\n",
       "      <td>0</td>\n",
       "      <td>0</td>\n",
       "      <td>0</td>\n",
       "      <td>6</td>\n",
       "    </tr>\n",
       "  </tbody>\n",
       "</table>\n",
       "<p>5 rows × 785 columns</p>\n",
       "</div>"
      ],
      "text/plain": [
       "   pixel_1  pixel_2  pixel_3  pixel_4  pixel_5  pixel_6  pixel_7  pixel_8  \\\n",
       "0        0        0        0        0        0        0        0        0   \n",
       "1        0        0        0        0        0        0        0        0   \n",
       "2        0        0        0        0        0        0        0        0   \n",
       "3        0        0        0        0        0        0        0        0   \n",
       "4        0        0        0        0        1        0        0       15   \n",
       "\n",
       "   pixel_9  pixel_10  ...  pixel_776  pixel_777  pixel_778  pixel_779  \\\n",
       "0        0         0  ...          0          0          0          0   \n",
       "1        0         0  ...          0          0          0          0   \n",
       "2        0         0  ...          0          0          0          0   \n",
       "3        0         0  ...          0          0          0          0   \n",
       "4       77        50  ...          1          0          0         76   \n",
       "\n",
       "   pixel_780  pixel_781  pixel_782  pixel_783  pixel_784  label  \n",
       "0          0          0          0          0          0      9  \n",
       "1          0          0          0          0          0      5  \n",
       "2          0          0          0          0          0      8  \n",
       "3          0          0          0          0          0      8  \n",
       "4         47          0          0          0          0      6  \n",
       "\n",
       "[5 rows x 785 columns]"
      ]
     },
     "execution_count": 7,
     "metadata": {},
     "output_type": "execute_result"
    }
   ],
   "source": [
    "train_df = train_df.drop(['id'], axis = 1)\n",
    "train_df.head()"
   ]
  },
  {
   "cell_type": "code",
   "execution_count": 8,
   "metadata": {},
   "outputs": [
    {
     "data": {
      "text/html": [
       "<div>\n",
       "<style scoped>\n",
       "    .dataframe tbody tr th:only-of-type {\n",
       "        vertical-align: middle;\n",
       "    }\n",
       "\n",
       "    .dataframe tbody tr th {\n",
       "        vertical-align: top;\n",
       "    }\n",
       "\n",
       "    .dataframe thead th {\n",
       "        text-align: right;\n",
       "    }\n",
       "</style>\n",
       "<table border=\"1\" class=\"dataframe\">\n",
       "  <thead>\n",
       "    <tr style=\"text-align: right;\">\n",
       "      <th></th>\n",
       "      <th>pixel_1</th>\n",
       "      <th>pixel_2</th>\n",
       "      <th>pixel_3</th>\n",
       "      <th>pixel_4</th>\n",
       "      <th>pixel_5</th>\n",
       "      <th>pixel_6</th>\n",
       "      <th>pixel_7</th>\n",
       "      <th>pixel_8</th>\n",
       "      <th>pixel_9</th>\n",
       "      <th>pixel_10</th>\n",
       "      <th>...</th>\n",
       "      <th>pixel_776</th>\n",
       "      <th>pixel_777</th>\n",
       "      <th>pixel_778</th>\n",
       "      <th>pixel_779</th>\n",
       "      <th>pixel_780</th>\n",
       "      <th>pixel_781</th>\n",
       "      <th>pixel_782</th>\n",
       "      <th>pixel_783</th>\n",
       "      <th>pixel_784</th>\n",
       "      <th>index</th>\n",
       "    </tr>\n",
       "  </thead>\n",
       "  <tbody>\n",
       "    <tr>\n",
       "      <th>60001</th>\n",
       "      <td>0</td>\n",
       "      <td>0</td>\n",
       "      <td>0</td>\n",
       "      <td>0</td>\n",
       "      <td>0</td>\n",
       "      <td>0</td>\n",
       "      <td>0</td>\n",
       "      <td>0</td>\n",
       "      <td>0</td>\n",
       "      <td>0</td>\n",
       "      <td>...</td>\n",
       "      <td>0</td>\n",
       "      <td>0</td>\n",
       "      <td>0</td>\n",
       "      <td>0</td>\n",
       "      <td>0</td>\n",
       "      <td>0</td>\n",
       "      <td>0</td>\n",
       "      <td>0</td>\n",
       "      <td>0</td>\n",
       "      <td>60001</td>\n",
       "    </tr>\n",
       "    <tr>\n",
       "      <th>60002</th>\n",
       "      <td>0</td>\n",
       "      <td>0</td>\n",
       "      <td>0</td>\n",
       "      <td>0</td>\n",
       "      <td>0</td>\n",
       "      <td>0</td>\n",
       "      <td>0</td>\n",
       "      <td>0</td>\n",
       "      <td>0</td>\n",
       "      <td>0</td>\n",
       "      <td>...</td>\n",
       "      <td>3</td>\n",
       "      <td>0</td>\n",
       "      <td>3</td>\n",
       "      <td>174</td>\n",
       "      <td>189</td>\n",
       "      <td>67</td>\n",
       "      <td>0</td>\n",
       "      <td>0</td>\n",
       "      <td>0</td>\n",
       "      <td>60002</td>\n",
       "    </tr>\n",
       "    <tr>\n",
       "      <th>60003</th>\n",
       "      <td>0</td>\n",
       "      <td>0</td>\n",
       "      <td>0</td>\n",
       "      <td>0</td>\n",
       "      <td>0</td>\n",
       "      <td>0</td>\n",
       "      <td>0</td>\n",
       "      <td>0</td>\n",
       "      <td>1</td>\n",
       "      <td>0</td>\n",
       "      <td>...</td>\n",
       "      <td>58</td>\n",
       "      <td>0</td>\n",
       "      <td>0</td>\n",
       "      <td>0</td>\n",
       "      <td>0</td>\n",
       "      <td>0</td>\n",
       "      <td>0</td>\n",
       "      <td>0</td>\n",
       "      <td>0</td>\n",
       "      <td>60003</td>\n",
       "    </tr>\n",
       "    <tr>\n",
       "      <th>60004</th>\n",
       "      <td>0</td>\n",
       "      <td>0</td>\n",
       "      <td>0</td>\n",
       "      <td>0</td>\n",
       "      <td>0</td>\n",
       "      <td>0</td>\n",
       "      <td>0</td>\n",
       "      <td>0</td>\n",
       "      <td>0</td>\n",
       "      <td>21</td>\n",
       "      <td>...</td>\n",
       "      <td>0</td>\n",
       "      <td>0</td>\n",
       "      <td>0</td>\n",
       "      <td>0</td>\n",
       "      <td>0</td>\n",
       "      <td>0</td>\n",
       "      <td>0</td>\n",
       "      <td>0</td>\n",
       "      <td>0</td>\n",
       "      <td>60004</td>\n",
       "    </tr>\n",
       "    <tr>\n",
       "      <th>60005</th>\n",
       "      <td>0</td>\n",
       "      <td>0</td>\n",
       "      <td>0</td>\n",
       "      <td>2</td>\n",
       "      <td>0</td>\n",
       "      <td>1</td>\n",
       "      <td>1</td>\n",
       "      <td>0</td>\n",
       "      <td>0</td>\n",
       "      <td>0</td>\n",
       "      <td>...</td>\n",
       "      <td>12</td>\n",
       "      <td>0</td>\n",
       "      <td>0</td>\n",
       "      <td>0</td>\n",
       "      <td>0</td>\n",
       "      <td>0</td>\n",
       "      <td>0</td>\n",
       "      <td>0</td>\n",
       "      <td>0</td>\n",
       "      <td>60005</td>\n",
       "    </tr>\n",
       "  </tbody>\n",
       "</table>\n",
       "<p>5 rows × 785 columns</p>\n",
       "</div>"
      ],
      "text/plain": [
       "       pixel_1  pixel_2  pixel_3  pixel_4  pixel_5  pixel_6  pixel_7  pixel_8  \\\n",
       "60001        0        0        0        0        0        0        0        0   \n",
       "60002        0        0        0        0        0        0        0        0   \n",
       "60003        0        0        0        0        0        0        0        0   \n",
       "60004        0        0        0        0        0        0        0        0   \n",
       "60005        0        0        0        2        0        1        1        0   \n",
       "\n",
       "       pixel_9  pixel_10  ...  pixel_776  pixel_777  pixel_778  pixel_779  \\\n",
       "60001        0         0  ...          0          0          0          0   \n",
       "60002        0         0  ...          3          0          3        174   \n",
       "60003        1         0  ...         58          0          0          0   \n",
       "60004        0        21  ...          0          0          0          0   \n",
       "60005        0         0  ...         12          0          0          0   \n",
       "\n",
       "       pixel_780  pixel_781  pixel_782  pixel_783  pixel_784  index  \n",
       "60001          0          0          0          0          0  60001  \n",
       "60002        189         67          0          0          0  60002  \n",
       "60003          0          0          0          0          0  60003  \n",
       "60004          0          0          0          0          0  60004  \n",
       "60005          0          0          0          0          0  60005  \n",
       "\n",
       "[5 rows x 785 columns]"
      ]
     },
     "execution_count": 8,
     "metadata": {},
     "output_type": "execute_result"
    }
   ],
   "source": [
    "test_df.head()"
   ]
  },
  {
   "cell_type": "code",
   "execution_count": 9,
   "metadata": {},
   "outputs": [],
   "source": [
    "columns = train_df.columns\n",
    "X = train_df[columns[columns != 'label']]\n",
    "y = train_df['label']"
   ]
  },
  {
   "cell_type": "code",
   "execution_count": 10,
   "metadata": {},
   "outputs": [],
   "source": [
    "X_train, X_test, y_train, y_test = train_test_split(X, y, test_size = 0.2, random_state = 4)"
   ]
  },
  {
   "cell_type": "code",
   "execution_count": 11,
   "metadata": {},
   "outputs": [
    {
     "data": {
      "text/plain": [
       "(48000, 784)"
      ]
     },
     "execution_count": 11,
     "metadata": {},
     "output_type": "execute_result"
    }
   ],
   "source": [
    "X_train.shape"
   ]
  },
  {
   "cell_type": "code",
   "execution_count": 12,
   "metadata": {},
   "outputs": [
    {
     "data": {
      "text/plain": [
       "(12000, 784)"
      ]
     },
     "execution_count": 12,
     "metadata": {},
     "output_type": "execute_result"
    }
   ],
   "source": [
    "X_test.shape"
   ]
  },
  {
   "cell_type": "code",
   "execution_count": 13,
   "metadata": {},
   "outputs": [
    {
     "data": {
      "text/plain": [
       "<matplotlib.axes._subplots.AxesSubplot at 0x1e8f4e2ec88>"
      ]
     },
     "execution_count": 13,
     "metadata": {},
     "output_type": "execute_result"
    },
    {
     "data": {
      "image/png": "[encoded data removed]",
      "text/plain": [
       "<Figure size 432x288 with 1 Axes>"
      ]
     },
     "metadata": {
      "needs_background": "light"
     },
     "output_type": "display_data"
    }
   ],
   "source": [
    "sns.countplot(y_train)"
   ]
  },
  {
   "cell_type": "code",
   "execution_count": 14,
   "metadata": {},
   "outputs": [],
   "source": [
    "X_train = X_train.values.reshape(X_train.shape[0], 28, 28, 1).astype('float32')\n",
    "X_test = X_test.values.reshape(X_test.shape[0], 28, 28, 1).astype('float32')"
   ]
  },
  {
   "cell_type": "code",
   "execution_count": 15,
   "metadata": {},
   "outputs": [],
   "source": [
    "X_train = X_train / 255 # normalize training data\n",
    "X_test = X_test / 255 # normalize test data"
   ]
  },
  {
   "cell_type": "code",
   "execution_count": 16,
   "metadata": {},
   "outputs": [],
   "source": [
    "y_train = to_categorical(y_train)\n",
    "y_test = to_categorical(y_test)\n",
    "\n",
    "num_classes = y_test.shape[1] # number of categories"
   ]
  },
  {
   "cell_type": "code",
   "execution_count": 17,
   "metadata": {},
   "outputs": [],
   "source": [
    "def convolutional_model():\n",
    "    ADAMAX = optimizers.Adamax(lr = 0.002, beta_1 = 0.9, beta_2 = 0.999)\n",
    "    # create model\n",
    "    model = Sequential()\n",
    "    model.add(Conv3D(32, (4, 4, 4), activation = 'relu', input_shape = (28, 28, 1), kernel_initializer='he_uniform'))\n",
    "    model.add(Conv3D(64, (3, 3, 3), activation = 'relu'))\n",
    "    model.add(MaxPooling3D(pool_size = (2, 2), strides = (2, 2)))\n",
    "    model.add(BatchNormalization(axis = -1))\n",
    "    model.add(Dropout(0.2))\n",
    "    \n",
    "    model.add(Conv3D(128, (3, 3, 3), activation = 'relu'))\n",
    "    model.add(Conv3D(256, (3, 3, 3), activation = 'relu'))\n",
    "    model.add(MaxPooling3D(pool_size = (2, 2), strides = (2, 2)))\n",
    "    model.add(BatchNormalization(axis = -1))\n",
    "    model.add(Dropout(0.2))\n",
    "\n",
    "    model.add(Conv3D(256, (2, 2, 2), activation = 'relu'))\n",
    "    model.add(MaxPooling3D(pool_size = (2, 2, 2), strides = (2, 2)))\n",
    "    model.add(BatchNormalization(axis = -1))\n",
    "    model.add(Dropout(0.2))\n",
    "    \n",
    "    model.add(Flatten())\n",
    "    model.add(Dense(256, activation = 'relu'))\n",
    "    model.add(BatchNormalization())\n",
    "    model.add(Dense(128, activation = 'relu'))\n",
    "    model.add(Activation('relu'))\n",
    "    model.add(Dropout(0.2))\n",
    "    model.add(Dense(num_classes, activation = 'softmax'))\n",
    "    \n",
    "    # Compile model\n",
    "    model.compile(optimizer = ADAMAX, loss = 'categorical_crossentropy',  metrics = ['accuracy'])\n",
    "    return model"
   ]
  },
  {
   "cell_type": "code",
   "execution_count": 18,
   "metadata": {},
   "outputs": [],
   "source": [
    "gen = ImageDataGenerator(rotation_range = 10, width_shift_range = 0.1, shear_range = 0.1,\n",
    "                         height_shift_range = 0.1, zoom_range = 0.1, fill_mode = 'nearest', horizontal_flip = False,\n",
    "                         vertical_flip = False, featurewise_center = False,\n",
    "                         samplewise_center = False, featurewise_std_normalization = False,\n",
    "                         samplewise_std_normalization = False)\n",
    "test_gen = ImageDataGenerator()\n",
    "\n",
    "# Create batches to  train models faster\n",
    "train_generator = gen.flow(X_train, y_train, batch_size = 32)\n",
    "test_generator = test_gen.flow(X_test, y_test, batch_size = 32)"
   ]
  },
  {
   "cell_type": "code",
   "execution_count": 19,
   "metadata": {},
   "outputs": [],
   "source": [
    "# Use annelar to gradually decrese the learning rate to improve generalization\n",
    "\n",
    "reduce_lr = ReduceLROnPlateau(monitor = 'val_acc', patience = 3, verbose = 1, factor = 0.5, min_lr = 0.00002,\n",
    "                                            mode = 'auto', cooldown = 0)"
   ]
  },
  {
   "cell_type": "code",
   "execution_count": 20,
   "metadata": {},
   "outputs": [
    {
     "name": "stdout",
     "output_type": "stream",
     "text": [
      "Epoch 1/32\n",
      "750/750 [==============================] - 259s 345ms/step - loss: 0.9513 - acc: 0.6502 - val_loss: 0.5985 - val_acc: 0.7672\n",
      "Epoch 2/32\n",
      "750/750 [==============================] - 238s 318ms/step - loss: 0.7242 - acc: 0.7326 - val_loss: 0.5617 - val_acc: 0.7963\n",
      "Epoch 3/32\n",
      "750/750 [==============================] - 239s 319ms/step - loss: 0.6570 - acc: 0.7577 - val_loss: 0.6650 - val_acc: 0.7726\n",
      "Epoch 4/32\n",
      "750/750 [==============================] - 209s 278ms/step - loss: 0.6114 - acc: 0.7770 - val_loss: 0.4849 - val_acc: 0.8207\n",
      "Epoch 5/32\n",
      "750/750 [==============================] - 245s 327ms/step - loss: 0.5611 - acc: 0.7940 - val_loss: 0.4933 - val_acc: 0.8224\n",
      "Epoch 6/32\n",
      "750/750 [==============================] - 221s 295ms/step - loss: 0.5453 - acc: 0.8036 - val_loss: 0.4140 - val_acc: 0.8494\n",
      "Epoch 7/32\n",
      "750/750 [==============================] - 198s 264ms/step - loss: 0.5198 - acc: 0.8147 - val_loss: 0.4092 - val_acc: 0.8494\n",
      "Epoch 8/32\n",
      "750/750 [==============================] - 230s 307ms/step - loss: 0.5109 - acc: 0.8168 - val_loss: 0.3980 - val_acc: 0.8579\n",
      "Epoch 9/32\n",
      "750/750 [==============================] - 243s 325ms/step - loss: 0.4876 - acc: 0.8222 - val_loss: 0.3838 - val_acc: 0.8604\n",
      "Epoch 10/32\n",
      "750/750 [==============================] - 243s 324ms/step - loss: 0.4849 - acc: 0.8238 - val_loss: 0.4173 - val_acc: 0.8455\n",
      "Epoch 11/32\n",
      "750/750 [==============================] - 243s 324ms/step - loss: 0.4730 - acc: 0.8289 - val_loss: 0.3903 - val_acc: 0.8578\n",
      "Epoch 12/32\n",
      "750/750 [==============================] - 236s 315ms/step - loss: 0.4619 - acc: 0.8303 - val_loss: 0.4058 - val_acc: 0.8451\n",
      "\n",
      "Epoch 00012: ReduceLROnPlateau reducing learning rate to 0.0010000000474974513.\n",
      "Epoch 13/32\n",
      "750/750 [==============================] - 211s 282ms/step - loss: 0.4271 - acc: 0.8443 - val_loss: 0.3574 - val_acc: 0.8718\n",
      "Epoch 14/32\n",
      "750/750 [==============================] - 239s 319ms/step - loss: 0.4320 - acc: 0.8444 - val_loss: 0.3495 - val_acc: 0.8692\n",
      "Epoch 15/32\n",
      "750/750 [==============================] - 258s 344ms/step - loss: 0.4304 - acc: 0.8440 - val_loss: 0.3262 - val_acc: 0.8801\n",
      "Epoch 16/32\n",
      "750/750 [==============================] - 261s 348ms/step - loss: 0.4062 - acc: 0.8527 - val_loss: 0.3765 - val_acc: 0.8648\n",
      "Epoch 17/32\n",
      "750/750 [==============================] - 244s 326ms/step - loss: 0.4109 - acc: 0.8518 - val_loss: 0.3296 - val_acc: 0.8820\n",
      "Epoch 18/32\n",
      "750/750 [==============================] - 245s 327ms/step - loss: 0.4009 - acc: 0.8548 - val_loss: 0.3659 - val_acc: 0.8661\n",
      "Epoch 19/32\n",
      "750/750 [==============================] - 204s 272ms/step - loss: 0.4008 - acc: 0.8519 - val_loss: 0.3317 - val_acc: 0.8809\n",
      "Epoch 20/32\n",
      "750/750 [==============================] - 227s 303ms/step - loss: 0.4010 - acc: 0.8524 - val_loss: 0.3197 - val_acc: 0.8832\n",
      "Epoch 21/32\n",
      "750/750 [==============================] - 219s 292ms/step - loss: 0.3943 - acc: 0.8545 - val_loss: 0.3562 - val_acc: 0.8679\n",
      "Epoch 22/32\n",
      "750/750 [==============================] - 228s 304ms/step - loss: 0.3941 - acc: 0.8563 - val_loss: 0.3207 - val_acc: 0.8823\n",
      "Epoch 23/32\n",
      "750/750 [==============================] - 219s 293ms/step - loss: 0.3844 - acc: 0.8620 - val_loss: 0.3260 - val_acc: 0.8809\n",
      "\n",
      "Epoch 00023: ReduceLROnPlateau reducing learning rate to 0.0005000000237487257.\n",
      "Epoch 24/32\n",
      "750/750 [==============================] - 215s 286ms/step - loss: 0.3803 - acc: 0.8621 - val_loss: 0.3063 - val_acc: 0.8892\n",
      "Epoch 25/32\n",
      "750/750 [==============================] - 216s 288ms/step - loss: 0.3713 - acc: 0.8637 - val_loss: 0.3039 - val_acc: 0.8892\n",
      "Epoch 26/32\n",
      "750/750 [==============================] - 227s 302ms/step - loss: 0.3740 - acc: 0.8632 - val_loss: 0.3102 - val_acc: 0.8859\n",
      "Epoch 27/32\n",
      "750/750 [==============================] - 224s 298ms/step - loss: 0.3699 - acc: 0.8647 - val_loss: 0.2960 - val_acc: 0.8935\n",
      "Epoch 28/32\n",
      "750/750 [==============================] - 221s 295ms/step - loss: 0.3671 - acc: 0.8662 - val_loss: 0.3126 - val_acc: 0.8840\n",
      "Epoch 29/32\n",
      "750/750 [==============================] - 227s 302ms/step - loss: 0.3637 - acc: 0.8669 - val_loss: 0.3105 - val_acc: 0.8842\n",
      "Epoch 30/32\n",
      "750/750 [==============================] - 214s 285ms/step - loss: 0.3682 - acc: 0.8680 - val_loss: 0.3072 - val_acc: 0.8865\n",
      "\n",
      "Epoch 00030: ReduceLROnPlateau reducing learning rate to 0.0002500000118743628.\n",
      "Epoch 31/32\n",
      "750/750 [==============================] - 226s 302ms/step - loss: 0.3594 - acc: 0.8711 - val_loss: 0.2952 - val_acc: 0.8913\n",
      "Epoch 32/32\n",
      "750/750 [==============================] - 227s 303ms/step - loss: 0.3540 - acc: 0.8706 - val_loss: 0.2952 - val_acc: 0.8913\n",
      "Accuracy: 0.8913333333333333 \n",
      " Error: 10.866666666666674\n"
     ]
    },
    {
     "data": {
      "text/plain": [
       "<Figure size 576x432 with 0 Axes>"
      ]
     },
     "metadata": {},
     "output_type": "display_data"
    },
    {
     "data": {
      "image/png": "[encoded data removed]",
      "text/plain": [
       "<Figure size 432x288 with 1 Axes>"
      ]
     },
     "metadata": {
      "needs_background": "light"
     },
     "output_type": "display_data"
    }
   ],
   "source": [
    "# build the model\n",
    "model = convolutional_model()\n",
    "epochs = 32\n",
    "# fit the model\n",
    "\n",
    "#history = model.fit(X_train, y_train, validation_data = (X_test, y_test), epochs = 30, batch_size = 200, verbose = 2)\n",
    "\n",
    "history = model.fit_generator(train_generator, steps_per_epoch = 48000//64, epochs = epochs, \n",
    "                              validation_data = test_generator, validation_steps = 12000//16, verbose = 1,\n",
    "                              callbacks=[reduce_lr])\n",
    "\n",
    "# evaluate the model\n",
    "scores = model.evaluate(X_test, y_test, verbose = 0)\n",
    "print(\"Accuracy: {} \\n Error: {}\".format(scores[1], 100-scores[1]*100))\n",
    "plot_loss_accuracy(history)"
   ]
  },
  {
   "cell_type": "code",
   "execution_count": 21,
   "metadata": {},
   "outputs": [
    {
     "name": "stdout",
     "output_type": "stream",
     "text": [
      "Confusion matrix, without normalization\n",
      "[[ 991    1   31   23    1    2  154    0   10    0]\n",
      " [   0 1185    2   19    2    0    4    0    3    0]\n",
      " [   9    1  986   11   73    2  113    0    4    0]\n",
      " [  19    4   33 1042   25    0   77    0    0    0]\n",
      " [   1    2   25   34  961    0  161    0    3    0]\n",
      " [   1    0    0    0    0 1115    0   15    3    6]\n",
      " [  85    3   75   15   74    0  946    0    8    0]\n",
      " [   0    0    0    0    0   36    0 1179    0   39]\n",
      " [   0    0    4    2    4    2    8    0 1193    0]\n",
      " [   0    0    0    3    0   13    3   55    1 1098]]\n"
     ]
    },
    {
     "data": {
      "image/png": "[encoded data removed]",
      "text/plain": [
       "<Figure size 432x288 with 2 Axes>"
      ]
     },
     "metadata": {
      "needs_background": "light"
     },
     "output_type": "display_data"
    }
   ],
   "source": [
    "y_pred = np.argmax(model.predict(X_test), axis = 1)\n",
    "Y_true = np.argmax(y_test, axis = 1)\n",
    "cm = confusion_matrix(Y_true, y_pred)\n",
    "plot_confusion_matrix(cm, classes = range(10))"
   ]
  },
  {
   "cell_type": "code",
   "execution_count": 22,
   "metadata": {},
   "outputs": [
    {
     "ename": "ValueError",
     "evalue": "cannot reshape array of size 7850000 into shape (10000,28,28,1)",
     "output_type": "error",
     "traceback": [
      "\u001b[1;31m---------------------------------------------------------------------------\u001b[0m",
      "\u001b[1;31mValueError\u001b[0m                                Traceback (most recent call last)",
      "\u001b[1;32m<ipython-input-22-1b15df47780e>\u001b[0m in \u001b[0;36m<module>\u001b[1;34m\u001b[0m\n\u001b[1;32m----> 1\u001b[1;33m \u001b[0mtest_data\u001b[0m \u001b[1;33m=\u001b[0m \u001b[0mtest_df\u001b[0m\u001b[1;33m.\u001b[0m\u001b[0mvalues\u001b[0m\u001b[1;33m.\u001b[0m\u001b[0mreshape\u001b[0m\u001b[1;33m(\u001b[0m\u001b[0mtest_df\u001b[0m\u001b[1;33m.\u001b[0m\u001b[0mshape\u001b[0m\u001b[1;33m[\u001b[0m\u001b[1;36m0\u001b[0m\u001b[1;33m]\u001b[0m\u001b[1;33m,\u001b[0m \u001b[1;36m28\u001b[0m\u001b[1;33m,\u001b[0m \u001b[1;36m28\u001b[0m\u001b[1;33m,\u001b[0m \u001b[1;36m1\u001b[0m\u001b[1;33m)\u001b[0m\u001b[1;33m.\u001b[0m\u001b[0mastype\u001b[0m\u001b[1;33m(\u001b[0m\u001b[1;34m'float32'\u001b[0m\u001b[1;33m)\u001b[0m\u001b[1;33m\u001b[0m\u001b[1;33m\u001b[0m\u001b[0m\n\u001b[0m\u001b[0;32m      2\u001b[0m \u001b[0mtest_data\u001b[0m \u001b[1;33m=\u001b[0m \u001b[0mtest_data\u001b[0m \u001b[1;33m/\u001b[0m \u001b[1;36m255\u001b[0m\u001b[1;33m\u001b[0m\u001b[1;33m\u001b[0m\u001b[0m\n\u001b[0;32m      3\u001b[0m \u001b[0mY_pred\u001b[0m \u001b[1;33m=\u001b[0m \u001b[0mmodel\u001b[0m\u001b[1;33m.\u001b[0m\u001b[0mpredict\u001b[0m\u001b[1;33m(\u001b[0m\u001b[0mtest_data\u001b[0m\u001b[1;33m)\u001b[0m\u001b[1;33m\u001b[0m\u001b[1;33m\u001b[0m\u001b[0m\n",
      "\u001b[1;31mValueError\u001b[0m: cannot reshape array of size 7850000 into shape (10000,28,28,1)"
     ]
    }
   ],
   "source": [
    "test_data = test_df.values.reshape(test_df.shape[0], 28, 28, 1).astype('float32')\n",
    "test_data = test_data / 255\n",
    "Y_pred = model.predict(test_data)"
   ]
  },
  {
   "cell_type": "code",
   "execution_count": null,
   "metadata": {},
   "outputs": [],
   "source": [
    "Y_pred = np.argmax(Y_pred,axis = 1)\n",
    "Y_pred = pd.Series(Y_pred, name = \"Label\")"
   ]
  },
  {
   "cell_type": "code",
   "execution_count": null,
   "metadata": {},
   "outputs": [],
   "source": [
    "submission_df = pd.DataFrame({\n",
    "                  \"id\": pd.Series(range(60001, len(Y_pred)+1)),\n",
    "                  \"label\": pd.Series(Y_pred)})"
   ]
  },
  {
   "cell_type": "code",
   "execution_count": null,
   "metadata": {},
   "outputs": [],
   "source": [
    "submission_df.to_csv('submission_GS_1.csv', index = False)"
   ]
  },
  {
   "cell_type": "code",
   "execution_count": null,
   "metadata": {},
   "outputs": [],
   "source": []
  },
  {
   "cell_type": "code",
   "execution_count": null,
   "metadata": {},
   "outputs": [],
   "source": []
  }
 ],
 "metadata": {
  "kernelspec": {
   "display_name": "Python 3",
   "language": "python",
   "name": "python3"
  },
  "language_info": {
   "codemirror_mode": {
    "name": "ipython",
    "version": 3
   },
   "file_extension": ".py",
   "mimetype": "text/x-python",
   "name": "python",
   "nbconvert_exporter": "python",
   "pygments_lexer": "ipython3",
   "version": "3.6.8"
  }
 },
 "nbformat": 4,
 "nbformat_minor": 4
}
