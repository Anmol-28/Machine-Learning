{
 "cells": [
  {
   "cell_type": "code",
   "execution_count": 139,
   "metadata": {},
   "outputs": [],
   "source": [
    "# import itertools\n",
    "import pandas as pd\n",
    "import seaborn as sns\n",
    "import numpy as np\n",
    "import matplotlib.pyplot as plt\n",
    "%matplotlib inline\n",
    "from tqdm.notebook import trange, tqdm\n",
    "np.random.seed(22)\n",
    "\n",
    "from lightgbm import LGBMClassifier\n",
    "from imblearn.over_sampling import SMOTE\n",
    "from sklearn.model_selection import train_test_split, KFold, StratifiedKFold, RepeatedStratifiedKFold, cross_val_score\n",
    "from sklearn.preprocessing import StandardScaler, LabelEncoder\n",
    "from sklearn import preprocessing\n",
    "from catboost import CatBoostClassifier\n",
    "from sklearn.metrics import classification_report, confusion_matrix\n",
    "from sklearn import metrics\n",
    "from sklearn.metrics import jaccard_similarity_score, f1_score, log_loss, accuracy_score\n",
    "from collections import Counter\n",
    "import warnings"
   ]
  },
  {
   "cell_type": "code",
   "execution_count": 140,
   "metadata": {},
   "outputs": [],
   "source": [
    "def plot_confusion_matrix(cm, classes,\n",
    "                          normalize = False,\n",
    "                          title='Confusion matrix',\n",
    "                          cmap=plt.cm.Blues):\n",
    "    \"\"\"\n",
    "    This function prints and plots the confusion matrix.\n",
    "    Normalization can be applied by setting `normalize=True`.\n",
    "    \"\"\"\n",
    "    if normalize:\n",
    "        cm = cm.astype('float') / cm.sum(axis=1)[:, np.newaxis]\n",
    "        print(\"Normalized confusion matrix\")\n",
    "    else:\n",
    "        print('Confusion matrix, without normalization')\n",
    "\n",
    "    print(cm)\n",
    "\n",
    "    plt.imshow(cm, interpolation='nearest', cmap=cmap)\n",
    "    plt.title(title)\n",
    "    plt.colorbar()\n",
    "    tick_marks = np.arange(len(classes))\n",
    "    plt.xticks(tick_marks, classes, rotation=45)\n",
    "    plt.yticks(tick_marks, classes)\n",
    "\n",
    "    fmt = '.2f' if normalize else 'd'\n",
    "    thresh = cm.max() / 2.\n",
    "    for i, j in itertools.product(range(cm.shape[0]), range(cm.shape[1])):\n",
    "        plt.text(j, i, format(cm[i, j], fmt),\n",
    "                 horizontalalignment=\"center\",\n",
    "                 color=\"white\" if cm[i, j] > thresh else \"black\")\n",
    "\n",
    "    plt.ylabel('True label')\n",
    "    plt.xlabel('Predicted label')\n",
    "    plt.tight_layout()"
   ]
  },
  {
   "cell_type": "code",
   "execution_count": 141,
   "metadata": {},
   "outputs": [],
   "source": [
    "def plot_loss_accuracy(history):\n",
    "    historydf = pd.DataFrame(history.history, index=history.epoch)\n",
    "    plt.figure(figsize=(8, 6))\n",
    "    historydf.plot(ylim=(0, max(1, historydf.values.max())))\n",
    "    loss = history.history['loss'][-1]\n",
    "    acc = history.history['acc'][-1]\n",
    "    plt.title('Loss: %.3f, Accuracy: %.3f' % (loss, acc))"
   ]
  },
  {
   "cell_type": "code",
   "execution_count": 142,
   "metadata": {
    "scrolled": true
   },
   "outputs": [
    {
     "data": {
      "text/html": [
       "<div>\n",
       "<style scoped>\n",
       "    .dataframe tbody tr th:only-of-type {\n",
       "        vertical-align: middle;\n",
       "    }\n",
       "\n",
       "    .dataframe tbody tr th {\n",
       "        vertical-align: top;\n",
       "    }\n",
       "\n",
       "    .dataframe thead th {\n",
       "        text-align: right;\n",
       "    }\n",
       "</style>\n",
       "<table border=\"1\" class=\"dataframe\">\n",
       "  <thead>\n",
       "    <tr style=\"text-align: right;\">\n",
       "      <th></th>\n",
       "      <th>loan_id</th>\n",
       "      <th>gender</th>\n",
       "      <th>married</th>\n",
       "      <th>dependents</th>\n",
       "      <th>education</th>\n",
       "      <th>self_employed</th>\n",
       "      <th>applicantincome</th>\n",
       "      <th>coapplicantincome</th>\n",
       "      <th>loanamount</th>\n",
       "      <th>loan_amount_term</th>\n",
       "      <th>credit_history</th>\n",
       "      <th>property_area</th>\n",
       "      <th>loan_status</th>\n",
       "    </tr>\n",
       "  </thead>\n",
       "  <tbody>\n",
       "    <tr>\n",
       "      <th>0</th>\n",
       "      <td>LP001002</td>\n",
       "      <td>Male</td>\n",
       "      <td>No</td>\n",
       "      <td>0</td>\n",
       "      <td>Graduate</td>\n",
       "      <td>No</td>\n",
       "      <td>5849</td>\n",
       "      <td>0.0</td>\n",
       "      <td>NaN</td>\n",
       "      <td>360.0</td>\n",
       "      <td>1.0</td>\n",
       "      <td>Urban</td>\n",
       "      <td>Y</td>\n",
       "    </tr>\n",
       "    <tr>\n",
       "      <th>1</th>\n",
       "      <td>LP001003</td>\n",
       "      <td>Male</td>\n",
       "      <td>Yes</td>\n",
       "      <td>1</td>\n",
       "      <td>Graduate</td>\n",
       "      <td>No</td>\n",
       "      <td>4583</td>\n",
       "      <td>1508.0</td>\n",
       "      <td>128.0</td>\n",
       "      <td>360.0</td>\n",
       "      <td>1.0</td>\n",
       "      <td>Rural</td>\n",
       "      <td>N</td>\n",
       "    </tr>\n",
       "    <tr>\n",
       "      <th>2</th>\n",
       "      <td>LP001005</td>\n",
       "      <td>Male</td>\n",
       "      <td>Yes</td>\n",
       "      <td>0</td>\n",
       "      <td>Graduate</td>\n",
       "      <td>Yes</td>\n",
       "      <td>3000</td>\n",
       "      <td>0.0</td>\n",
       "      <td>66.0</td>\n",
       "      <td>360.0</td>\n",
       "      <td>1.0</td>\n",
       "      <td>Urban</td>\n",
       "      <td>Y</td>\n",
       "    </tr>\n",
       "    <tr>\n",
       "      <th>3</th>\n",
       "      <td>LP001006</td>\n",
       "      <td>Male</td>\n",
       "      <td>Yes</td>\n",
       "      <td>0</td>\n",
       "      <td>Not Graduate</td>\n",
       "      <td>No</td>\n",
       "      <td>2583</td>\n",
       "      <td>2358.0</td>\n",
       "      <td>120.0</td>\n",
       "      <td>360.0</td>\n",
       "      <td>1.0</td>\n",
       "      <td>Urban</td>\n",
       "      <td>Y</td>\n",
       "    </tr>\n",
       "    <tr>\n",
       "      <th>4</th>\n",
       "      <td>LP001008</td>\n",
       "      <td>Male</td>\n",
       "      <td>No</td>\n",
       "      <td>0</td>\n",
       "      <td>Graduate</td>\n",
       "      <td>No</td>\n",
       "      <td>6000</td>\n",
       "      <td>0.0</td>\n",
       "      <td>141.0</td>\n",
       "      <td>360.0</td>\n",
       "      <td>1.0</td>\n",
       "      <td>Urban</td>\n",
       "      <td>Y</td>\n",
       "    </tr>\n",
       "  </tbody>\n",
       "</table>\n",
       "</div>"
      ],
      "text/plain": [
       "    loan_id gender married dependents     education self_employed  \\\n",
       "0  LP001002   Male      No          0      Graduate            No   \n",
       "1  LP001003   Male     Yes          1      Graduate            No   \n",
       "2  LP001005   Male     Yes          0      Graduate           Yes   \n",
       "3  LP001006   Male     Yes          0  Not Graduate            No   \n",
       "4  LP001008   Male      No          0      Graduate            No   \n",
       "\n",
       "   applicantincome  coapplicantincome  loanamount  loan_amount_term  \\\n",
       "0             5849                0.0         NaN             360.0   \n",
       "1             4583             1508.0       128.0             360.0   \n",
       "2             3000                0.0        66.0             360.0   \n",
       "3             2583             2358.0       120.0             360.0   \n",
       "4             6000                0.0       141.0             360.0   \n",
       "\n",
       "   credit_history property_area loan_status  \n",
       "0             1.0         Urban           Y  \n",
       "1             1.0         Rural           N  \n",
       "2             1.0         Urban           Y  \n",
       "3             1.0         Urban           Y  \n",
       "4             1.0         Urban           Y  "
      ]
     },
     "execution_count": 142,
     "metadata": {},
     "output_type": "execute_result"
    }
   ],
   "source": [
    "train_data = pd.read_csv('train.csv')\n",
    "test_data = pd.read_csv('test.csv')\n",
    "train_data.columns = train_data.columns.str.strip().str.lower().str.replace(' ', '_').str.replace('(', '').str.replace(')', '')\n",
    "test_data.columns = test_data.columns.str.strip().str.lower().str.replace(' ', '_').str.replace('(', '').str.replace(')', '')\n",
    "train_data.head()"
   ]
  },
  {
   "cell_type": "code",
   "execution_count": 143,
   "metadata": {},
   "outputs": [
    {
     "data": {
      "text/plain": [
       "(614, 13)"
      ]
     },
     "execution_count": 143,
     "metadata": {},
     "output_type": "execute_result"
    }
   ],
   "source": [
    "train_data.shape"
   ]
  },
  {
   "cell_type": "code",
   "execution_count": 144,
   "metadata": {},
   "outputs": [
    {
     "data": {
      "text/plain": [
       "loan_id               0\n",
       "gender               13\n",
       "married               3\n",
       "dependents           15\n",
       "education             0\n",
       "self_employed        32\n",
       "applicantincome       0\n",
       "coapplicantincome     0\n",
       "loanamount           22\n",
       "loan_amount_term     14\n",
       "credit_history       50\n",
       "property_area         0\n",
       "loan_status           0\n",
       "dtype: int64"
      ]
     },
     "execution_count": 144,
     "metadata": {},
     "output_type": "execute_result"
    }
   ],
   "source": [
    "train_data.isnull().sum()"
   ]
  },
  {
   "cell_type": "code",
   "execution_count": 145,
   "metadata": {},
   "outputs": [
    {
     "data": {
      "text/plain": [
       "loan_id               0\n",
       "gender               11\n",
       "married               0\n",
       "dependents           10\n",
       "education             0\n",
       "self_employed        23\n",
       "applicantincome       0\n",
       "coapplicantincome     0\n",
       "loanamount            5\n",
       "loan_amount_term      6\n",
       "credit_history       29\n",
       "property_area         0\n",
       "dtype: int64"
      ]
     },
     "execution_count": 145,
     "metadata": {},
     "output_type": "execute_result"
    }
   ],
   "source": [
    "test_data.isnull().sum()"
   ]
  },
  {
   "cell_type": "code",
   "execution_count": 146,
   "metadata": {},
   "outputs": [
    {
     "data": {
      "text/plain": [
       "loan_id               object\n",
       "gender                object\n",
       "married               object\n",
       "dependents            object\n",
       "education             object\n",
       "self_employed         object\n",
       "applicantincome        int64\n",
       "coapplicantincome    float64\n",
       "loanamount           float64\n",
       "loan_amount_term     float64\n",
       "credit_history       float64\n",
       "property_area         object\n",
       "loan_status           object\n",
       "dtype: object"
      ]
     },
     "execution_count": 146,
     "metadata": {},
     "output_type": "execute_result"
    }
   ],
   "source": [
    "train_data.dtypes"
   ]
  },
  {
   "cell_type": "code",
   "execution_count": 147,
   "metadata": {},
   "outputs": [],
   "source": [
    "train_data.loc[(train_data['credit_history'].isnull()) & (train_data['loan_status'] == 'Y'), 'credit_history'] = 1.0\n",
    "train_data.loc[(train_data['credit_history'].isnull()) & (train_data['loan_status'] == 'N'), 'credit_history'] = 0\n",
    "\n",
    "train_data['credit_history'] = train_data['credit_history'].replace({1.0: 'Y', 0: 'N'})\n",
    "test_data['credit_history'] = test_data['credit_history'].replace({1.0: 'Y', 0: 'N'})"
   ]
  },
  {
   "cell_type": "code",
   "execution_count": 148,
   "metadata": {},
   "outputs": [],
   "source": [
    "# loan_avg = train_data.pivot_table(index = ['education', 'self_employed'], values = 'loanamount', aggfunc = np.mean)\n",
    "\n",
    "train_data[\"gender\"].fillna('NaN', inplace = True)\n",
    "test_data[\"gender\"].fillna('NaN', inplace = True)\n",
    "train_data[\"self_employed\"].fillna('NaN', inplace = True)\n",
    "test_data[\"self_employed\"].fillna('NaN', inplace = True)\n",
    "train_data[\"married\"].fillna('NaN', inplace = True)\n",
    "train_data[\"dependents\"].fillna('NaN', inplace = True)\n",
    "test_data[\"dependents\"].fillna('NaN', inplace = True)\n",
    "\n",
    "## Let Catboost handle nulls in credit history\n",
    "test_data[\"credit_history\"].fillna('NaN', inplace = True)\n",
    "\n",
    "# Handle outliers in Loan Amount\n",
    "medianLoanAmt = train_data.loc[train_data['loanamount'] < 300, 'loanamount'].median()\n",
    "train_data[\"loanamount\"] = np.where(train_data[\"loanamount\"] > 300, medianLoanAmt, train_data['loanamount'])\n",
    "test_data[\"loanamount\"] = np.where(test_data[\"loanamount\"] > 300, medianLoanAmt, test_data['loanamount'])\n",
    "\n",
    "#train_data = train_data.fillna(train_data.mean())\n",
    "#train_data[\"loanamount\"] = train_data.groupby(\"married\")[\"loanamount\"].transform(lambda x: x.fillna(x.mean()))\n",
    "#test_data[\"loanamount\"] = test_data.groupby(\"married\")[\"loanamount\"].transform(lambda x: x.fillna(x.mean()))\n",
    "train_data[\"loanamount\"] = train_data[\"loanamount\"].transform(lambda x: x.fillna(x.median()))\n",
    "test_data[\"loanamount\"] = test_data[\"loanamount\"].transform(lambda x: x.fillna(x.median()))\n",
    "\n",
    "train_data[\"total_income\"] = train_data[\"applicantincome\"] + train_data[\"coapplicantincome\"]\n",
    "test_data[\"total_income\"] = test_data[\"applicantincome\"] + test_data[\"coapplicantincome\"]\n",
    "\n",
    "train_data[\"loan_amount_term\"] = train_data[\"loan_amount_term\"].transform(lambda x: x.fillna(x.median()))\n",
    "test_data[\"loan_amount_term\"] = test_data[\"loan_amount_term\"].transform(lambda x: x.fillna(x.median()))\n",
    "\n",
    "#test_data['loanamount'].fillna((test_data['loanamount'].mean()), inplace = True)\n",
    "#test_data['loan_amount_term'].fillna((test_data['loan_amount_term'].mean()), inplace = True)\n",
    "# test_data[\"credit_history\"].fillna(1, inplace = True)\n",
    "\n",
    "train_data = train_data.drop([\"loan_id\"], axis = 1)\n",
    "loan_ids = test_data[\"loan_id\"].values\n",
    "test_data = test_data.drop([\"loan_id\"], axis = 1)"
   ]
  },
  {
   "cell_type": "code",
   "execution_count": 149,
   "metadata": {},
   "outputs": [],
   "source": [
    "ss = StandardScaler()\n",
    "scale_features = ['applicantincome', 'coapplicantincome', 'loan_amount_term', 'loanamount', 'total_income']\n",
    "train_data[scale_features] = ss.fit_transform(train_data[scale_features])"
   ]
  },
  {
   "cell_type": "code",
   "execution_count": 150,
   "metadata": {},
   "outputs": [],
   "source": [
    "# Defining X, y and splittinf the training data\n",
    "\n",
    "X = train_data.drop('loan_status', axis = 1).values\n",
    "y = train_data['loan_status'].values\n",
    "\n",
    "# Normalize data\n",
    "# Scaling the features within range (0, 1)\n",
    "\n",
    "#X = preprocessing.StandardScaler().fit(X).transform(X)\n",
    "\n",
    "#X_train, X_test, y_train, y_test = train_test_split(X, y, random_state = 4, test_size = 0.33, shuffle = True)"
   ]
  },
  {
   "cell_type": "code",
   "execution_count": 151,
   "metadata": {},
   "outputs": [
    {
     "name": "stdout",
     "output_type": "stream",
     "text": [
      "Learning rate set to 0.06281\n",
      "0:\tlearn: 0.6702656\ttotal: 8.01ms\tremaining: 793ms\n",
      "99:\tlearn: 0.3894223\ttotal: 338ms\tremaining: 0us\n",
      "Validation Accuracy: 0.8536585365853658\n",
      "Learning rate set to 0.06281\n",
      "0:\tlearn: 0.6680986\ttotal: 5.36ms\tremaining: 531ms\n",
      "99:\tlearn: 0.3753722\ttotal: 345ms\tremaining: 0us\n",
      "Validation Accuracy: 0.8048780487804879\n",
      "Learning rate set to 0.06281\n",
      "0:\tlearn: 0.6692086\ttotal: 7.39ms\tremaining: 732ms\n",
      "99:\tlearn: 0.3703042\ttotal: 719ms\tremaining: 0us\n",
      "Validation Accuracy: 0.7967479674796748\n",
      "Learning rate set to 0.06281\n",
      "0:\tlearn: 0.6713113\ttotal: 7.24ms\tremaining: 717ms\n",
      "99:\tlearn: 0.3885216\ttotal: 329ms\tremaining: 0us\n",
      "Validation Accuracy: 0.8373983739837398\n",
      "Learning rate set to 0.062864\n",
      "0:\tlearn: 0.6729930\ttotal: 11ms\tremaining: 1.09s\n",
      "99:\tlearn: 0.3950406\ttotal: 341ms\tremaining: 0us\n",
      "Validation Accuracy: 0.860655737704918\n",
      "Average Validation Accuracy:  0.8306677329068373\n"
     ]
    }
   ],
   "source": [
    "kfold, scores = KFold(n_splits = 5, shuffle = True, random_state = 22), list()\n",
    "for train, test in kfold.split(X):\n",
    "    X_train, x_test = X[train], X[test]\n",
    "    y_train, y_test = y[train], y[test]\n",
    "    \n",
    "    model = CatBoostClassifier(random_state = 22, max_depth = 6, n_estimators = 100, verbose = 500)\n",
    "    model.fit(X_train, y_train, cat_features=[0, 1, 2, 3, 4, 9, 10])\n",
    "    preds = model.predict(x_test)\n",
    "    score = accuracy_score(y_test, preds)\n",
    "    scores.append(score)\n",
    "    print('Validation Accuracy:', score)\n",
    "print(\"Average Validation Accuracy: \", sum(scores)/len(scores))"
   ]
  },
  {
   "cell_type": "code",
   "execution_count": 152,
   "metadata": {},
   "outputs": [],
   "source": [
    "test_preds = model.predict(test_data)"
   ]
  },
  {
   "cell_type": "code",
   "execution_count": 153,
   "metadata": {},
   "outputs": [
    {
     "data": {
      "text/plain": [
       "array(['Y', 'Y', 'Y', 'Y', 'Y'], dtype=object)"
      ]
     },
     "execution_count": 153,
     "metadata": {},
     "output_type": "execute_result"
    }
   ],
   "source": [
    "test_preds[0:5]"
   ]
  },
  {
   "cell_type": "code",
   "execution_count": 154,
   "metadata": {},
   "outputs": [],
   "source": [
    "submission_df = pd.DataFrame({\n",
    "                  \"Loan_ID\": loan_ids, \n",
    "                  \"Loan_Status\": test_preds.flatten()})"
   ]
  },
  {
   "cell_type": "code",
   "execution_count": 155,
   "metadata": {},
   "outputs": [],
   "source": [
    "submission_df.to_csv('submission_CB.csv', index = False)"
   ]
  },
  {
   "cell_type": "code",
   "execution_count": 157,
   "metadata": {},
   "outputs": [
    {
     "data": {
      "text/html": [
       "<div>\n",
       "<style scoped>\n",
       "    .dataframe tbody tr th:only-of-type {\n",
       "        vertical-align: middle;\n",
       "    }\n",
       "\n",
       "    .dataframe tbody tr th {\n",
       "        vertical-align: top;\n",
       "    }\n",
       "\n",
       "    .dataframe thead th {\n",
       "        text-align: right;\n",
       "    }\n",
       "</style>\n",
       "<table border=\"1\" class=\"dataframe\">\n",
       "  <thead>\n",
       "    <tr style=\"text-align: right;\">\n",
       "      <th></th>\n",
       "      <th>gender</th>\n",
       "      <th>married</th>\n",
       "      <th>dependents</th>\n",
       "      <th>education</th>\n",
       "      <th>self_employed</th>\n",
       "      <th>applicantincome</th>\n",
       "      <th>coapplicantincome</th>\n",
       "      <th>loanamount</th>\n",
       "      <th>loan_amount_term</th>\n",
       "      <th>credit_history</th>\n",
       "      <th>property_area</th>\n",
       "      <th>loan_status</th>\n",
       "      <th>total_income</th>\n",
       "    </tr>\n",
       "  </thead>\n",
       "  <tbody>\n",
       "    <tr>\n",
       "      <th>0</th>\n",
       "      <td>1</td>\n",
       "      <td>1</td>\n",
       "      <td>0</td>\n",
       "      <td>0</td>\n",
       "      <td>1</td>\n",
       "      <td>0.072991</td>\n",
       "      <td>-0.554487</td>\n",
       "      <td>-0.134389</td>\n",
       "      <td>0.273231</td>\n",
       "      <td>1</td>\n",
       "      <td>2</td>\n",
       "      <td>Y</td>\n",
       "      <td>-0.182184</td>\n",
       "    </tr>\n",
       "    <tr>\n",
       "      <th>1</th>\n",
       "      <td>1</td>\n",
       "      <td>2</td>\n",
       "      <td>1</td>\n",
       "      <td>0</td>\n",
       "      <td>1</td>\n",
       "      <td>-0.134412</td>\n",
       "      <td>-0.038732</td>\n",
       "      <td>-0.063803</td>\n",
       "      <td>0.273231</td>\n",
       "      <td>1</td>\n",
       "      <td>0</td>\n",
       "      <td>N</td>\n",
       "      <td>-0.144684</td>\n",
       "    </tr>\n",
       "    <tr>\n",
       "      <th>2</th>\n",
       "      <td>1</td>\n",
       "      <td>2</td>\n",
       "      <td>0</td>\n",
       "      <td>0</td>\n",
       "      <td>2</td>\n",
       "      <td>-0.393747</td>\n",
       "      <td>-0.554487</td>\n",
       "      <td>-1.314177</td>\n",
       "      <td>0.273231</td>\n",
       "      <td>1</td>\n",
       "      <td>2</td>\n",
       "      <td>Y</td>\n",
       "      <td>-0.623656</td>\n",
       "    </tr>\n",
       "    <tr>\n",
       "      <th>3</th>\n",
       "      <td>1</td>\n",
       "      <td>2</td>\n",
       "      <td>0</td>\n",
       "      <td>1</td>\n",
       "      <td>1</td>\n",
       "      <td>-0.462062</td>\n",
       "      <td>0.251980</td>\n",
       "      <td>-0.225142</td>\n",
       "      <td>0.273231</td>\n",
       "      <td>1</td>\n",
       "      <td>2</td>\n",
       "      <td>Y</td>\n",
       "      <td>-0.322885</td>\n",
       "    </tr>\n",
       "    <tr>\n",
       "      <th>4</th>\n",
       "      <td>1</td>\n",
       "      <td>1</td>\n",
       "      <td>0</td>\n",
       "      <td>0</td>\n",
       "      <td>1</td>\n",
       "      <td>0.097728</td>\n",
       "      <td>-0.554487</td>\n",
       "      <td>0.198372</td>\n",
       "      <td>0.273231</td>\n",
       "      <td>1</td>\n",
       "      <td>2</td>\n",
       "      <td>Y</td>\n",
       "      <td>-0.158785</td>\n",
       "    </tr>\n",
       "  </tbody>\n",
       "</table>\n",
       "</div>"
      ],
      "text/plain": [
       "   gender  married  dependents  education  self_employed  applicantincome  \\\n",
       "0       1        1           0          0              1         0.072991   \n",
       "1       1        2           1          0              1        -0.134412   \n",
       "2       1        2           0          0              2        -0.393747   \n",
       "3       1        2           0          1              1        -0.462062   \n",
       "4       1        1           0          0              1         0.097728   \n",
       "\n",
       "   coapplicantincome  loanamount  loan_amount_term  credit_history  \\\n",
       "0          -0.554487   -0.134389          0.273231               1   \n",
       "1          -0.038732   -0.063803          0.273231               1   \n",
       "2          -0.554487   -1.314177          0.273231               1   \n",
       "3           0.251980   -0.225142          0.273231               1   \n",
       "4          -0.554487    0.198372          0.273231               1   \n",
       "\n",
       "   property_area loan_status  total_income  \n",
       "0              2           Y     -0.182184  \n",
       "1              0           N     -0.144684  \n",
       "2              2           Y     -0.623656  \n",
       "3              2           Y     -0.322885  \n",
       "4              2           Y     -0.158785  "
      ]
     },
     "execution_count": 157,
     "metadata": {},
     "output_type": "execute_result"
    }
   ],
   "source": [
    "# Label Encoding\n",
    "\n",
    "le = LabelEncoder()\n",
    "train_data[\"education\"] = le.fit_transform(train_data[\"education\"])\n",
    "test_data[\"education\"] = le.transform(test_data[\"education\"])\n",
    "train_data[\"gender\"] = le.fit_transform(train_data[\"gender\"])\n",
    "test_data[\"gender\"] = le.transform(test_data[\"gender\"])\n",
    "train_data[\"married\"] = le.fit_transform(train_data[\"married\"])\n",
    "test_data[\"married\"] = le.transform(test_data[\"married\"])\n",
    "train_data[\"dependents\"] = le.fit_transform(train_data[\"dependents\"])\n",
    "test_data[\"dependents\"] = le.transform(test_data[\"dependents\"])\n",
    "train_data[\"property_area\"] = le.fit_transform(train_data[\"property_area\"])\n",
    "test_data[\"property_area\"] = le.transform(test_data[\"property_area\"])\n",
    "train_data[\"credit_history\"] = le.fit_transform(train_data[\"credit_history\"])\n",
    "test_data[\"credit_history\"] = le.transform(test_data[\"credit_history\"])\n",
    "train_data[\"self_employed\"] = le.fit_transform(train_data[\"self_employed\"])\n",
    "test_data[\"self_employed\"] = le.transform(test_data[\"self_employed\"])\n",
    "train_data.head()"
   ]
  },
  {
   "cell_type": "code",
   "execution_count": 158,
   "metadata": {},
   "outputs": [
    {
     "data": {
      "text/plain": [
       "((614, 12), (614,), (367, 12))"
      ]
     },
     "execution_count": 158,
     "metadata": {},
     "output_type": "execute_result"
    }
   ],
   "source": [
    "X_train, Y = train_data.drop([\"loan_status\"], axis = 1).values, train_data[\"loan_status\"].values\n",
    "X_test = test_data.values\n",
    "\n",
    "X_train.shape, Y.shape, X_test.shape"
   ]
  },
  {
   "cell_type": "code",
   "execution_count": 190,
   "metadata": {},
   "outputs": [
    {
     "data": {
      "text/plain": [
       "155"
      ]
     },
     "execution_count": 190,
     "metadata": {},
     "output_type": "execute_result"
    }
   ],
   "source": [
    "num_class2"
   ]
  },
  {
   "cell_type": "code",
   "execution_count": 192,
   "metadata": {},
   "outputs": [
    {
     "name": "stderr",
     "output_type": "stream",
     "text": [
      "C:\\ProgramData\\Anaconda3\\envs\\deepai\\lib\\site-packages\\lightgbm\\basic.py:1295: UserWarning: categorical_feature in Dataset is overridden.\n",
      "New categorical_feature is [0, 1, 2, 3, 4, 9, 10]\n",
      "  'New categorical_feature is {}'.format(sorted(list(categorical_feature))))\n"
     ]
    },
    {
     "name": "stdout",
     "output_type": "stream",
     "text": [
      "Validation Accuracy: 0.7967479674796748\n"
     ]
    },
    {
     "name": "stderr",
     "output_type": "stream",
     "text": [
      "C:\\ProgramData\\Anaconda3\\envs\\deepai\\lib\\site-packages\\imblearn\\utils\\_validation.py:253: UserWarning: After over-sampling, the number of samples (352) in class N will be larger than the number of samples in the majority class (class #Y -> 331)\n",
      "  n_samples_majority))\n",
      "C:\\ProgramData\\Anaconda3\\envs\\deepai\\lib\\site-packages\\lightgbm\\basic.py:1295: UserWarning: categorical_feature in Dataset is overridden.\n",
      "New categorical_feature is [0, 1, 2, 3, 4, 9, 10]\n",
      "  'New categorical_feature is {}'.format(sorted(list(categorical_feature))))\n"
     ]
    },
    {
     "name": "stdout",
     "output_type": "stream",
     "text": [
      "Validation Accuracy: 0.6829268292682927\n"
     ]
    },
    {
     "name": "stderr",
     "output_type": "stream",
     "text": [
      "C:\\ProgramData\\Anaconda3\\envs\\deepai\\lib\\site-packages\\lightgbm\\basic.py:1295: UserWarning: categorical_feature in Dataset is overridden.\n",
      "New categorical_feature is [0, 1, 2, 3, 4, 9, 10]\n",
      "  'New categorical_feature is {}'.format(sorted(list(categorical_feature))))\n"
     ]
    },
    {
     "name": "stdout",
     "output_type": "stream",
     "text": [
      "Validation Accuracy: 0.7642276422764228\n"
     ]
    },
    {
     "name": "stderr",
     "output_type": "stream",
     "text": [
      "C:\\ProgramData\\Anaconda3\\envs\\deepai\\lib\\site-packages\\lightgbm\\basic.py:1295: UserWarning: categorical_feature in Dataset is overridden.\n",
      "New categorical_feature is [0, 1, 2, 3, 4, 9, 10]\n",
      "  'New categorical_feature is {}'.format(sorted(list(categorical_feature))))\n"
     ]
    },
    {
     "name": "stdout",
     "output_type": "stream",
     "text": [
      "Validation Accuracy: 0.7804878048780488\n"
     ]
    },
    {
     "name": "stderr",
     "output_type": "stream",
     "text": [
      "C:\\ProgramData\\Anaconda3\\envs\\deepai\\lib\\site-packages\\imblearn\\utils\\_validation.py:253: UserWarning: After over-sampling, the number of samples (341) in class N will be larger than the number of samples in the majority class (class #Y -> 337)\n",
      "  n_samples_majority))\n",
      "C:\\ProgramData\\Anaconda3\\envs\\deepai\\lib\\site-packages\\lightgbm\\basic.py:1295: UserWarning: categorical_feature in Dataset is overridden.\n",
      "New categorical_feature is [0, 1, 2, 3, 4, 9, 10]\n",
      "  'New categorical_feature is {}'.format(sorted(list(categorical_feature))))\n"
     ]
    },
    {
     "name": "stdout",
     "output_type": "stream",
     "text": [
      "Validation Accuracy: 0.7622950819672131\n",
      "Average Validation Accuracy:  0.7573370651739304\n"
     ]
    }
   ],
   "source": [
    "kfold, scores = KFold(n_splits = 5, shuffle = True, random_state = 22), list()\n",
    "for train, test in kfold.split(X_train):\n",
    "    x_train, x_test = X_train[train], X_train[test]\n",
    "    y_train, y_test = Y[train], Y[test]\n",
    "\n",
    "    num_class1, num_class2 = Counter(y_train)['Y'], Counter(y_train)['N']\n",
    "    sm = SMOTE(random_state = 22, sampling_strategy = {'Y': int(1.0*num_class1), 'N': int(2.2*num_class2)})\n",
    "    x_train, y_train = sm.fit_resample(x_train, y_train)\n",
    "    \n",
    "    LGBM_model = LGBMClassifier(random_state = 22, max_depth = 6, n_estimators = 400)\n",
    "    LGBM_model.fit(x_train, y_train, categorical_feature = [0, 1, 2, 3, 4, 9, 10])\n",
    "    preds = LGBM_model.predict(x_test)\n",
    "    score = accuracy_score(y_test, preds)\n",
    "    scores.append(score)\n",
    "    print('Validation Accuracy:', score)\n",
    "print(\"Average Validation Accuracy: \", sum(scores)/len(scores))"
   ]
  }
 ],
 "metadata": {
  "kernelspec": {
   "display_name": "Python 3",
   "language": "python",
   "name": "python3"
  },
  "language_info": {
   "codemirror_mode": {
    "name": "ipython",
    "version": 3
   },
   "file_extension": ".py",
   "mimetype": "text/x-python",
   "name": "python",
   "nbconvert_exporter": "python",
   "pygments_lexer": "ipython3",
   "version": "3.6.8"
  }
 },
 "nbformat": 4,
 "nbformat_minor": 4
}
